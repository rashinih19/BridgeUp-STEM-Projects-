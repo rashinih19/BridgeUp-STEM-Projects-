{
  "nbformat": 4,
  "nbformat_minor": 0,
  "metadata": {
    "kernelspec": {
      "display_name": "Python 3",
      "language": "python",
      "name": "python3"
    },
    "language_info": {
      "codemirror_mode": {
        "name": "ipython",
        "version": 3
      },
      "file_extension": ".py",
      "mimetype": "text/x-python",
      "name": "python",
      "nbconvert_exporter": "python",
      "pygments_lexer": "ipython3",
      "version": "3.8.3"
    },
    "colab": {
      "name": "unit 2 final project",
      "provenance": []
    }
  },
  "cells": [
    {
      "cell_type": "markdown",
      "metadata": {
        "id": "7NzMveyx7RyQ"
      },
      "source": [
        "# C14U2: Climate Change\n",
        "\n",
        "In the following notebook, students will be able to:\n",
        "* Open and read a CSV file in Python\n",
        "* Implement RGB color codes in Python \n",
        "* Review the basics of coding in Python\n",
        "* Make bar graphs in matplotlib\n",
        "* Use basic pandas functions to work with datasets\n"
      ]
    },
    {
      "cell_type": "markdown",
      "metadata": {
        "id": "u6pZkw5l7RyU"
      },
      "source": [
        "## 🟢 Module 1: Calculating Temperature Anomalies\n",
        "\n",
        "In climate change studies, temperature anomalies are more important than average temperatures. They eliminate bias due to measurement station location or lost data points.\n",
        "\n",
        "A temperature anomaly is the **difference from an average**, or baseline, temperature. A positive anomaly means the observed temperature was warmer than the baseline, while a negative anomaly means the observed temperature was cooler than the baseline. \n",
        "\n",
        "Let's calculate some anomalies!\n",
        "\n",
        "**Reminder: To run the code in a Jupyter notebook cell, click inside the cell and press \"shift\" and \"return\" on your keyboard at the same time.**"
      ]
    },
    {
      "cell_type": "markdown",
      "metadata": {
        "id": "-2NvFpvK7RyV"
      },
      "source": [
        "First import the numpy library as np: it has useful functions including np.mean() which calculates an average."
      ]
    },
    {
      "cell_type": "code",
      "metadata": {
        "id": "Ig9dfypd7RyX"
      },
      "source": [
        "import numpy as np"
      ],
      "execution_count": null,
      "outputs": []
    },
    {
      "cell_type": "markdown",
      "metadata": {
        "id": "vxNike1B7RyX"
      },
      "source": [
        "### Finding the baseline \n",
        "To find the difference from an average, we first need to calculate the average itself (the baseline)! \n",
        "\n",
        "Climate scientists use the 20th century average for reference. The list below contains the average global temperature in Celsius from 1901 - 2000 (20 degrees Celsius is room temperature).\n",
        "\n",
        "Find the mean (average) of this list and assign it to a variable:"
      ]
    },
    {
      "cell_type": "code",
      "metadata": {
        "id": "8gn_3CW17RyY"
      },
      "source": [
        "temps_20th = [13.79, 13.70, 13.64, 13.56, 13.70, 13.74, 13.58, 13.57, 13.53, 13.54, 13.56, 13.59, 13.61, 13.77, \n",
        "              13.84, 13.64, 13.56, 13.69, 13.71, 13.73, 13.80, 13.71, 13.75, 13.76, 13.79, 13.91, 13.82, 13.84, \n",
        "              13.69, 13.88, 13.93, 13.89, 13.75, 13.91, 13.85, 13.90, 14.03, 14.06, 14.01, 14.07, 14.08, 14.05, \n",
        "              14.06, 14.14, 14.00, 13.92, 13.96, 13.90, 13.89, 13.81, 13.94, 14.02, 14.09, 13.89, 13.88, 13.82, \n",
        "              14.04, 14.04, 14.02, 13.96, 14.05, 14.04, 14.07, 13.80, 13.90, 13.96, 13.99, 13.95, 14.06, 14.04, \n",
        "              13.93, 14.02, 14.16, 13.93, 13.99, 13.88, 14.15, 14.06, 14.12, 14.23, 14.28, 14.09, 14.27, 14.12, \n",
        "              14.08, 14.15, 14.29, 14.35, 14.24, 14.39, 14.38, 14.19, 14.21, 14.29, 14.43, 14.33, 14.46, 14.62, \n",
        "              14.41, 14.41]"
      ],
      "execution_count": null,
      "outputs": []
    },
    {
      "cell_type": "code",
      "metadata": {
        "id": "Exa__GuU7RyZ"
      },
      "source": [
        "avg_20th = np.mean(temps_20th) "
      ],
      "execution_count": null,
      "outputs": []
    },
    {
      "cell_type": "markdown",
      "metadata": {
        "id": "8x0BwevH7RyZ"
      },
      "source": [
        "Print out the average:"
      ]
    },
    {
      "cell_type": "code",
      "metadata": {
        "colab": {
          "base_uri": "https://localhost:8080/"
        },
        "id": "ujbsea667Rya",
        "outputId": "5f60c766-2f66-47db-80e3-4dcadf2eab9c"
      },
      "source": [
        "print(np.mean(temps_20th))\n",
        "print(avg_20th)"
      ],
      "execution_count": null,
      "outputs": [
        {
          "output_type": "stream",
          "text": [
            "13.9623\n",
            "13.9623\n"
          ],
          "name": "stdout"
        }
      ]
    },
    {
      "cell_type": "markdown",
      "metadata": {
        "id": "TADFaTOk7Rya"
      },
      "source": [
        "### Finding the anomalies\n",
        "\n",
        "Look on Slack for your dates and copy the correct list of yearly average temperatures into the cell below (remember to assign it to a variable):\n",
        "- Group 1: 1880 - 1904\n",
        "- Group 2: 1905 - 1929\n",
        "- Group 3: 1930 - 1954\n",
        "- Group 4: 1955 - 1979\n",
        "- Group 5: 1980 - 2013"
      ]
    },
    {
      "cell_type": "code",
      "metadata": {
        "id": "lMMG90-a7Ryb"
      },
      "source": [
        "years_1980_2013 = [14.23, 14.28, 14.09, 14.27, 14.12, 14.08, 14.15, 14.29, 14.35, 14.24,\n",
        "14.39, 14.38, 14.19, 14.21, 14.29, 14.43, 14.33, 14.46, 14.62, 14.41, 14.41, 14.53,\n",
        "14.62, 14.61, 14.52, 14.66, 14.60, 14.63, 14.49, 14.60, 14.67, 14.55, 14.58, 14.61]"
      ],
      "execution_count": null,
      "outputs": []
    },
    {
      "cell_type": "markdown",
      "metadata": {
        "id": "5__UFO4p7Ryb"
      },
      "source": [
        "Now it's time to calculate the anomalies for your date range. Your goal is to create a new list that contains anomalies for each year (that year's average temperature - the 20th century average we calculated above).\n",
        "\n",
        "Hints:\n",
        "- You will need a \"for loop\"\n",
        "- You will need to create an empty list\n",
        "- Try pseudocoding if you're not sure how to proceed!"
      ]
    },
    {
      "cell_type": "code",
      "metadata": {
        "id": "vG7IzoFH7Ryb"
      },
      "source": [
        "anomalies_1980_2013 = []\n",
        "for i in years_1980_2013:\n",
        "  anomalies.append(i - avg_20th)\n"
      ],
      "execution_count": null,
      "outputs": []
    },
    {
      "cell_type": "markdown",
      "metadata": {
        "id": "-hb36Jlw7Ryc"
      },
      "source": [
        "Print out your list of anomalies below:"
      ]
    },
    {
      "cell_type": "code",
      "metadata": {
        "colab": {
          "base_uri": "https://localhost:8080/"
        },
        "id": "eMR7GnI07Ryc",
        "outputId": "046e2e9f-2188-40ba-91eb-671cd98b178b"
      },
      "source": [
        "print(anomalies_1980_2013)"
      ],
      "execution_count": null,
      "outputs": [
        {
          "output_type": "stream",
          "text": [
            "[]\n"
          ],
          "name": "stdout"
        }
      ]
    },
    {
      "cell_type": "markdown",
      "metadata": {
        "id": "ZC7NXOs07Ryd"
      },
      "source": [
        "## 🟢 Module 2: Make your own Temperature Anomaly Graph data visualization!\n",
        "\n",
        "In this module, you'll use pandas to read in a CSV file, create a dataframe, and make a bar chart that shows how the Earth's temperature anomalies have changed over time. \n",
        "\n",
        "**Reminder: To run the code in a Jupyter Notebook cell, click inside the cell and press \"shift\" and \"return\" on your keyboard at the same time.**"
      ]
    },
    {
      "cell_type": "markdown",
      "metadata": {
        "id": "Xdm-a_GJ7Ryd"
      },
      "source": [
        "First, we need to import pandas as pd:"
      ]
    },
    {
      "cell_type": "code",
      "metadata": {
        "id": "q01nNtuz7Rye"
      },
      "source": [
        "import pandas as pd"
      ],
      "execution_count": null,
      "outputs": []
    },
    {
      "cell_type": "markdown",
      "metadata": {
        "id": "27PNg3MV7Rye"
      },
      "source": [
        "Next, we're going to create a data frame. It's convention to assign the dataframe to a variable called df. \n",
        "(However, if you create more than one data frame, you need to use a different variable name)\n",
        "\n",
        "We're going to use the pd.read_csv() function to open up our temperature anomaly data file."
      ]
    },
    {
      "cell_type": "code",
      "metadata": {
        "colab": {
          "base_uri": "https://localhost:8080/",
          "height": 375
        },
        "id": "zZxLv1t07Ryf",
        "outputId": "29ed361e-d085-4708-ae01-5d941e7b172f"
      },
      "source": [
        "df = pd.read_csv(\"/content/drive/MyDrive/Colab Notebooks/Annual_Temp_Anomalies.csv\")"
      ],
      "execution_count": null,
      "outputs": [
        {
          "output_type": "error",
          "ename": "FileNotFoundError",
          "evalue": "ignored",
          "traceback": [
            "\u001b[0;31m---------------------------------------------------------------------------\u001b[0m",
            "\u001b[0;31mFileNotFoundError\u001b[0m                         Traceback (most recent call last)",
            "\u001b[0;32m<ipython-input-8-bcea6e6b1844>\u001b[0m in \u001b[0;36m<module>\u001b[0;34m()\u001b[0m\n\u001b[0;32m----> 1\u001b[0;31m \u001b[0mdf\u001b[0m \u001b[0;34m=\u001b[0m \u001b[0mpd\u001b[0m\u001b[0;34m.\u001b[0m\u001b[0mread_csv\u001b[0m\u001b[0;34m(\u001b[0m\u001b[0;34m\"/content/drive/MyDrive/Colab Notebooks/Annual_Temp_Anomalies.csv\"\u001b[0m\u001b[0;34m)\u001b[0m\u001b[0;34m\u001b[0m\u001b[0;34m\u001b[0m\u001b[0m\n\u001b[0m",
            "\u001b[0;32m/usr/local/lib/python3.7/dist-packages/pandas/io/parsers.py\u001b[0m in \u001b[0;36mread_csv\u001b[0;34m(filepath_or_buffer, sep, delimiter, header, names, index_col, usecols, squeeze, prefix, mangle_dupe_cols, dtype, engine, converters, true_values, false_values, skipinitialspace, skiprows, skipfooter, nrows, na_values, keep_default_na, na_filter, verbose, skip_blank_lines, parse_dates, infer_datetime_format, keep_date_col, date_parser, dayfirst, cache_dates, iterator, chunksize, compression, thousands, decimal, lineterminator, quotechar, quoting, doublequote, escapechar, comment, encoding, dialect, error_bad_lines, warn_bad_lines, delim_whitespace, low_memory, memory_map, float_precision)\u001b[0m\n\u001b[1;32m    686\u001b[0m     )\n\u001b[1;32m    687\u001b[0m \u001b[0;34m\u001b[0m\u001b[0m\n\u001b[0;32m--> 688\u001b[0;31m     \u001b[0;32mreturn\u001b[0m \u001b[0m_read\u001b[0m\u001b[0;34m(\u001b[0m\u001b[0mfilepath_or_buffer\u001b[0m\u001b[0;34m,\u001b[0m \u001b[0mkwds\u001b[0m\u001b[0;34m)\u001b[0m\u001b[0;34m\u001b[0m\u001b[0;34m\u001b[0m\u001b[0m\n\u001b[0m\u001b[1;32m    689\u001b[0m \u001b[0;34m\u001b[0m\u001b[0m\n\u001b[1;32m    690\u001b[0m \u001b[0;34m\u001b[0m\u001b[0m\n",
            "\u001b[0;32m/usr/local/lib/python3.7/dist-packages/pandas/io/parsers.py\u001b[0m in \u001b[0;36m_read\u001b[0;34m(filepath_or_buffer, kwds)\u001b[0m\n\u001b[1;32m    452\u001b[0m \u001b[0;34m\u001b[0m\u001b[0m\n\u001b[1;32m    453\u001b[0m     \u001b[0;31m# Create the parser.\u001b[0m\u001b[0;34m\u001b[0m\u001b[0;34m\u001b[0m\u001b[0;34m\u001b[0m\u001b[0m\n\u001b[0;32m--> 454\u001b[0;31m     \u001b[0mparser\u001b[0m \u001b[0;34m=\u001b[0m \u001b[0mTextFileReader\u001b[0m\u001b[0;34m(\u001b[0m\u001b[0mfp_or_buf\u001b[0m\u001b[0;34m,\u001b[0m \u001b[0;34m**\u001b[0m\u001b[0mkwds\u001b[0m\u001b[0;34m)\u001b[0m\u001b[0;34m\u001b[0m\u001b[0;34m\u001b[0m\u001b[0m\n\u001b[0m\u001b[1;32m    455\u001b[0m \u001b[0;34m\u001b[0m\u001b[0m\n\u001b[1;32m    456\u001b[0m     \u001b[0;32mif\u001b[0m \u001b[0mchunksize\u001b[0m \u001b[0;32mor\u001b[0m \u001b[0miterator\u001b[0m\u001b[0;34m:\u001b[0m\u001b[0;34m\u001b[0m\u001b[0;34m\u001b[0m\u001b[0m\n",
            "\u001b[0;32m/usr/local/lib/python3.7/dist-packages/pandas/io/parsers.py\u001b[0m in \u001b[0;36m__init__\u001b[0;34m(self, f, engine, **kwds)\u001b[0m\n\u001b[1;32m    946\u001b[0m             \u001b[0mself\u001b[0m\u001b[0;34m.\u001b[0m\u001b[0moptions\u001b[0m\u001b[0;34m[\u001b[0m\u001b[0;34m\"has_index_names\"\u001b[0m\u001b[0;34m]\u001b[0m \u001b[0;34m=\u001b[0m \u001b[0mkwds\u001b[0m\u001b[0;34m[\u001b[0m\u001b[0;34m\"has_index_names\"\u001b[0m\u001b[0;34m]\u001b[0m\u001b[0;34m\u001b[0m\u001b[0;34m\u001b[0m\u001b[0m\n\u001b[1;32m    947\u001b[0m \u001b[0;34m\u001b[0m\u001b[0m\n\u001b[0;32m--> 948\u001b[0;31m         \u001b[0mself\u001b[0m\u001b[0;34m.\u001b[0m\u001b[0m_make_engine\u001b[0m\u001b[0;34m(\u001b[0m\u001b[0mself\u001b[0m\u001b[0;34m.\u001b[0m\u001b[0mengine\u001b[0m\u001b[0;34m)\u001b[0m\u001b[0;34m\u001b[0m\u001b[0;34m\u001b[0m\u001b[0m\n\u001b[0m\u001b[1;32m    949\u001b[0m \u001b[0;34m\u001b[0m\u001b[0m\n\u001b[1;32m    950\u001b[0m     \u001b[0;32mdef\u001b[0m \u001b[0mclose\u001b[0m\u001b[0;34m(\u001b[0m\u001b[0mself\u001b[0m\u001b[0;34m)\u001b[0m\u001b[0;34m:\u001b[0m\u001b[0;34m\u001b[0m\u001b[0;34m\u001b[0m\u001b[0m\n",
            "\u001b[0;32m/usr/local/lib/python3.7/dist-packages/pandas/io/parsers.py\u001b[0m in \u001b[0;36m_make_engine\u001b[0;34m(self, engine)\u001b[0m\n\u001b[1;32m   1178\u001b[0m     \u001b[0;32mdef\u001b[0m \u001b[0m_make_engine\u001b[0m\u001b[0;34m(\u001b[0m\u001b[0mself\u001b[0m\u001b[0;34m,\u001b[0m \u001b[0mengine\u001b[0m\u001b[0;34m=\u001b[0m\u001b[0;34m\"c\"\u001b[0m\u001b[0;34m)\u001b[0m\u001b[0;34m:\u001b[0m\u001b[0;34m\u001b[0m\u001b[0;34m\u001b[0m\u001b[0m\n\u001b[1;32m   1179\u001b[0m         \u001b[0;32mif\u001b[0m \u001b[0mengine\u001b[0m \u001b[0;34m==\u001b[0m \u001b[0;34m\"c\"\u001b[0m\u001b[0;34m:\u001b[0m\u001b[0;34m\u001b[0m\u001b[0;34m\u001b[0m\u001b[0m\n\u001b[0;32m-> 1180\u001b[0;31m             \u001b[0mself\u001b[0m\u001b[0;34m.\u001b[0m\u001b[0m_engine\u001b[0m \u001b[0;34m=\u001b[0m \u001b[0mCParserWrapper\u001b[0m\u001b[0;34m(\u001b[0m\u001b[0mself\u001b[0m\u001b[0;34m.\u001b[0m\u001b[0mf\u001b[0m\u001b[0;34m,\u001b[0m \u001b[0;34m**\u001b[0m\u001b[0mself\u001b[0m\u001b[0;34m.\u001b[0m\u001b[0moptions\u001b[0m\u001b[0;34m)\u001b[0m\u001b[0;34m\u001b[0m\u001b[0;34m\u001b[0m\u001b[0m\n\u001b[0m\u001b[1;32m   1181\u001b[0m         \u001b[0;32melse\u001b[0m\u001b[0;34m:\u001b[0m\u001b[0;34m\u001b[0m\u001b[0;34m\u001b[0m\u001b[0m\n\u001b[1;32m   1182\u001b[0m             \u001b[0;32mif\u001b[0m \u001b[0mengine\u001b[0m \u001b[0;34m==\u001b[0m \u001b[0;34m\"python\"\u001b[0m\u001b[0;34m:\u001b[0m\u001b[0;34m\u001b[0m\u001b[0;34m\u001b[0m\u001b[0m\n",
            "\u001b[0;32m/usr/local/lib/python3.7/dist-packages/pandas/io/parsers.py\u001b[0m in \u001b[0;36m__init__\u001b[0;34m(self, src, **kwds)\u001b[0m\n\u001b[1;32m   2008\u001b[0m         \u001b[0mkwds\u001b[0m\u001b[0;34m[\u001b[0m\u001b[0;34m\"usecols\"\u001b[0m\u001b[0;34m]\u001b[0m \u001b[0;34m=\u001b[0m \u001b[0mself\u001b[0m\u001b[0;34m.\u001b[0m\u001b[0musecols\u001b[0m\u001b[0;34m\u001b[0m\u001b[0;34m\u001b[0m\u001b[0m\n\u001b[1;32m   2009\u001b[0m \u001b[0;34m\u001b[0m\u001b[0m\n\u001b[0;32m-> 2010\u001b[0;31m         \u001b[0mself\u001b[0m\u001b[0;34m.\u001b[0m\u001b[0m_reader\u001b[0m \u001b[0;34m=\u001b[0m \u001b[0mparsers\u001b[0m\u001b[0;34m.\u001b[0m\u001b[0mTextReader\u001b[0m\u001b[0;34m(\u001b[0m\u001b[0msrc\u001b[0m\u001b[0;34m,\u001b[0m \u001b[0;34m**\u001b[0m\u001b[0mkwds\u001b[0m\u001b[0;34m)\u001b[0m\u001b[0;34m\u001b[0m\u001b[0;34m\u001b[0m\u001b[0m\n\u001b[0m\u001b[1;32m   2011\u001b[0m         \u001b[0mself\u001b[0m\u001b[0;34m.\u001b[0m\u001b[0munnamed_cols\u001b[0m \u001b[0;34m=\u001b[0m \u001b[0mself\u001b[0m\u001b[0;34m.\u001b[0m\u001b[0m_reader\u001b[0m\u001b[0;34m.\u001b[0m\u001b[0munnamed_cols\u001b[0m\u001b[0;34m\u001b[0m\u001b[0;34m\u001b[0m\u001b[0m\n\u001b[1;32m   2012\u001b[0m \u001b[0;34m\u001b[0m\u001b[0m\n",
            "\u001b[0;32mpandas/_libs/parsers.pyx\u001b[0m in \u001b[0;36mpandas._libs.parsers.TextReader.__cinit__\u001b[0;34m()\u001b[0m\n",
            "\u001b[0;32mpandas/_libs/parsers.pyx\u001b[0m in \u001b[0;36mpandas._libs.parsers.TextReader._setup_parser_source\u001b[0;34m()\u001b[0m\n",
            "\u001b[0;31mFileNotFoundError\u001b[0m: [Errno 2] No such file or directory: '/content/drive/MyDrive/Colab Notebooks/Annual_Temp_Anomalies.csv'"
          ]
        }
      ]
    },
    {
      "cell_type": "markdown",
      "metadata": {
        "id": "82TIzs7R7Ryf"
      },
      "source": [
        "We can look at the first 5 lines of our data frame by using the .head() method. <br>\n",
        "Because it is a method, you need to put the variable name of the data frame **(not pd)** in front of the period."
      ]
    },
    {
      "cell_type": "code",
      "metadata": {
        "colab": {
          "base_uri": "https://localhost:8080/",
          "height": 164
        },
        "id": "a8S7YkDh7Ryg",
        "outputId": "4c3a3c40-f248-41a0-be1b-a19e4cf72cfa"
      },
      "source": [
        "df.head(10)"
      ],
      "execution_count": null,
      "outputs": [
        {
          "output_type": "error",
          "ename": "NameError",
          "evalue": "ignored",
          "traceback": [
            "\u001b[0;31m---------------------------------------------------------------------------\u001b[0m",
            "\u001b[0;31mNameError\u001b[0m                                 Traceback (most recent call last)",
            "\u001b[0;32m<ipython-input-9-4a676c3d8c05>\u001b[0m in \u001b[0;36m<module>\u001b[0;34m()\u001b[0m\n\u001b[0;32m----> 1\u001b[0;31m \u001b[0mdf\u001b[0m\u001b[0;34m.\u001b[0m\u001b[0mhead\u001b[0m\u001b[0;34m(\u001b[0m\u001b[0;36m10\u001b[0m\u001b[0;34m)\u001b[0m\u001b[0;34m\u001b[0m\u001b[0;34m\u001b[0m\u001b[0m\n\u001b[0m",
            "\u001b[0;31mNameError\u001b[0m: name 'df' is not defined"
          ]
        }
      ]
    },
    {
      "cell_type": "markdown",
      "metadata": {
        "id": "BqV8E5N27Ryg"
      },
      "source": [
        "We can isolate particular columns in pandas using a new kind of index. Instead of putting the number of an item in a list, we'll put the name of the column in the brackets. \n",
        "Note: Column names are always strings!\n",
        "\n",
        "Let's put the \"Year\" column and the \"Temp Anomaly (C)\" column into their own variables:"
      ]
    },
    {
      "cell_type": "code",
      "metadata": {
        "id": "qI_KhAw87Ryg",
        "colab": {
          "base_uri": "https://localhost:8080/",
          "height": 181
        },
        "outputId": "590f899c-5647-4cbb-988c-5b15d8b5e76b"
      },
      "source": [
        "years = df[\"Year\"]\n",
        "print(years)"
      ],
      "execution_count": null,
      "outputs": [
        {
          "output_type": "error",
          "ename": "NameError",
          "evalue": "ignored",
          "traceback": [
            "\u001b[0;31m---------------------------------------------------------------------------\u001b[0m",
            "\u001b[0;31mNameError\u001b[0m                                 Traceback (most recent call last)",
            "\u001b[0;32m<ipython-input-10-78a96dfa9162>\u001b[0m in \u001b[0;36m<module>\u001b[0;34m()\u001b[0m\n\u001b[0;32m----> 1\u001b[0;31m \u001b[0myears\u001b[0m \u001b[0;34m=\u001b[0m \u001b[0mdf\u001b[0m\u001b[0;34m[\u001b[0m\u001b[0;34m\"Year\"\u001b[0m\u001b[0;34m]\u001b[0m\u001b[0;34m\u001b[0m\u001b[0;34m\u001b[0m\u001b[0m\n\u001b[0m\u001b[1;32m      2\u001b[0m \u001b[0mprint\u001b[0m\u001b[0;34m(\u001b[0m\u001b[0myears\u001b[0m\u001b[0;34m)\u001b[0m\u001b[0;34m\u001b[0m\u001b[0;34m\u001b[0m\u001b[0m\n",
            "\u001b[0;31mNameError\u001b[0m: name 'df' is not defined"
          ]
        }
      ]
    },
    {
      "cell_type": "markdown",
      "metadata": {
        "id": "D48mF5Rd7Ryh"
      },
      "source": [
        "We can look at the summary of each column using the .head() method. This time, we put the variable name for the columns in front of the period.\n",
        "\n",
        "Notice that pandas also tells you the data type of the values in that column!"
      ]
    },
    {
      "cell_type": "code",
      "metadata": {
        "id": "dZkZu0_77Ryh",
        "colab": {
          "base_uri": "https://localhost:8080/",
          "height": 164
        },
        "outputId": "ddae0f9c-b0d1-42b7-cabb-e1233bbb88ab"
      },
      "source": [
        "years.head(5)"
      ],
      "execution_count": null,
      "outputs": [
        {
          "output_type": "error",
          "ename": "NameError",
          "evalue": "ignored",
          "traceback": [
            "\u001b[0;31m---------------------------------------------------------------------------\u001b[0m",
            "\u001b[0;31mNameError\u001b[0m                                 Traceback (most recent call last)",
            "\u001b[0;32m<ipython-input-11-1cb57750f9c0>\u001b[0m in \u001b[0;36m<module>\u001b[0;34m()\u001b[0m\n\u001b[0;32m----> 1\u001b[0;31m \u001b[0myears\u001b[0m\u001b[0;34m.\u001b[0m\u001b[0mhead\u001b[0m\u001b[0;34m(\u001b[0m\u001b[0;36m5\u001b[0m\u001b[0;34m)\u001b[0m\u001b[0;34m\u001b[0m\u001b[0;34m\u001b[0m\u001b[0m\n\u001b[0m",
            "\u001b[0;31mNameError\u001b[0m: name 'years' is not defined"
          ]
        }
      ]
    },
    {
      "cell_type": "markdown",
      "metadata": {
        "id": "XuWU5XFT7Ryh"
      },
      "source": [
        "Now that we've isolated the columns, we can put them into a matplotlib bar graph:"
      ]
    },
    {
      "cell_type": "code",
      "metadata": {
        "id": "onBc0SRv7Ryh",
        "colab": {
          "base_uri": "https://localhost:8080/",
          "height": 232
        },
        "outputId": "307cfab9-a3c1-448e-f04e-5b77b4d6fc31"
      },
      "source": [
        "import matplotlib.pyplot as plt\n",
        "\n",
        "plt.bar(years, temp_anom, width = 2)\n",
        "plt.xlim(1880, 2018)\n",
        "plt.xticks(range(1880, 2018, 15))\n",
        "plt.title(\"Temperature Anomalies Over Time from 1880 to 2018\")\n",
        "plt.ylabel(\"Differences in Celsius from the Average\")\n",
        "plt.show()"
      ],
      "execution_count": null,
      "outputs": [
        {
          "output_type": "error",
          "ename": "NameError",
          "evalue": "ignored",
          "traceback": [
            "\u001b[0;31m---------------------------------------------------------------------------\u001b[0m",
            "\u001b[0;31mNameError\u001b[0m                                 Traceback (most recent call last)",
            "\u001b[0;32m<ipython-input-12-a3ac3144b7e2>\u001b[0m in \u001b[0;36m<module>\u001b[0;34m()\u001b[0m\n\u001b[1;32m      1\u001b[0m \u001b[0;32mimport\u001b[0m \u001b[0mmatplotlib\u001b[0m\u001b[0;34m.\u001b[0m\u001b[0mpyplot\u001b[0m \u001b[0;32mas\u001b[0m \u001b[0mplt\u001b[0m\u001b[0;34m\u001b[0m\u001b[0;34m\u001b[0m\u001b[0m\n\u001b[1;32m      2\u001b[0m \u001b[0;34m\u001b[0m\u001b[0m\n\u001b[0;32m----> 3\u001b[0;31m \u001b[0mplt\u001b[0m\u001b[0;34m.\u001b[0m\u001b[0mbar\u001b[0m\u001b[0;34m(\u001b[0m\u001b[0myears\u001b[0m\u001b[0;34m,\u001b[0m \u001b[0mtemp_anom\u001b[0m\u001b[0;34m,\u001b[0m \u001b[0mwidth\u001b[0m \u001b[0;34m=\u001b[0m \u001b[0;36m2\u001b[0m\u001b[0;34m)\u001b[0m\u001b[0;34m\u001b[0m\u001b[0;34m\u001b[0m\u001b[0m\n\u001b[0m\u001b[1;32m      4\u001b[0m \u001b[0mplt\u001b[0m\u001b[0;34m.\u001b[0m\u001b[0mxlim\u001b[0m\u001b[0;34m(\u001b[0m\u001b[0;36m1880\u001b[0m\u001b[0;34m,\u001b[0m \u001b[0;36m2018\u001b[0m\u001b[0;34m)\u001b[0m\u001b[0;34m\u001b[0m\u001b[0;34m\u001b[0m\u001b[0m\n\u001b[1;32m      5\u001b[0m \u001b[0mplt\u001b[0m\u001b[0;34m.\u001b[0m\u001b[0mxticks\u001b[0m\u001b[0;34m(\u001b[0m\u001b[0mrange\u001b[0m\u001b[0;34m(\u001b[0m\u001b[0;36m1880\u001b[0m\u001b[0;34m,\u001b[0m \u001b[0;36m2018\u001b[0m\u001b[0;34m,\u001b[0m \u001b[0;36m15\u001b[0m\u001b[0;34m)\u001b[0m\u001b[0;34m)\u001b[0m\u001b[0;34m\u001b[0m\u001b[0;34m\u001b[0m\u001b[0m\n",
            "\u001b[0;31mNameError\u001b[0m: name 'years' is not defined"
          ]
        }
      ]
    },
    {
      "cell_type": "markdown",
      "metadata": {
        "id": "0p8J46Ed7Ryi"
      },
      "source": [
        "### Coding Challenge: \n",
        "Import the CO2 dataset and store the data in a data frame. \n",
        "Create a line graph that shows how CO2 has changed over time. Hint: You can use plt.(x,y) to make a line graph."
      ]
    },
    {
      "cell_type": "code",
      "metadata": {
        "id": "4CHWqnJq7Ryj",
        "colab": {
          "base_uri": "https://localhost:8080/",
          "height": 409
        },
        "outputId": "2311da89-c95e-47ed-85fa-61d6a6f0cacf"
      },
      "source": [
        "df_co2 = pd.read_csv(\"/content/drive/MyDrive/Colab Notebooks/Annual_CO2.csv\")\n",
        "\n",
        "df_co2.head()"
      ],
      "execution_count": null,
      "outputs": [
        {
          "output_type": "error",
          "ename": "FileNotFoundError",
          "evalue": "ignored",
          "traceback": [
            "\u001b[0;31m---------------------------------------------------------------------------\u001b[0m",
            "\u001b[0;31mFileNotFoundError\u001b[0m                         Traceback (most recent call last)",
            "\u001b[0;32m<ipython-input-13-763af47fdd2e>\u001b[0m in \u001b[0;36m<module>\u001b[0;34m()\u001b[0m\n\u001b[0;32m----> 1\u001b[0;31m \u001b[0mdf_co2\u001b[0m \u001b[0;34m=\u001b[0m \u001b[0mpd\u001b[0m\u001b[0;34m.\u001b[0m\u001b[0mread_csv\u001b[0m\u001b[0;34m(\u001b[0m\u001b[0;34m\"/content/drive/MyDrive/Colab Notebooks/Annual_CO2.csv\"\u001b[0m\u001b[0;34m)\u001b[0m\u001b[0;34m\u001b[0m\u001b[0;34m\u001b[0m\u001b[0m\n\u001b[0m\u001b[1;32m      2\u001b[0m \u001b[0;34m\u001b[0m\u001b[0m\n\u001b[1;32m      3\u001b[0m \u001b[0mdf_co2\u001b[0m\u001b[0;34m.\u001b[0m\u001b[0mhead\u001b[0m\u001b[0;34m(\u001b[0m\u001b[0;34m)\u001b[0m\u001b[0;34m\u001b[0m\u001b[0;34m\u001b[0m\u001b[0m\n",
            "\u001b[0;32m/usr/local/lib/python3.7/dist-packages/pandas/io/parsers.py\u001b[0m in \u001b[0;36mread_csv\u001b[0;34m(filepath_or_buffer, sep, delimiter, header, names, index_col, usecols, squeeze, prefix, mangle_dupe_cols, dtype, engine, converters, true_values, false_values, skipinitialspace, skiprows, skipfooter, nrows, na_values, keep_default_na, na_filter, verbose, skip_blank_lines, parse_dates, infer_datetime_format, keep_date_col, date_parser, dayfirst, cache_dates, iterator, chunksize, compression, thousands, decimal, lineterminator, quotechar, quoting, doublequote, escapechar, comment, encoding, dialect, error_bad_lines, warn_bad_lines, delim_whitespace, low_memory, memory_map, float_precision)\u001b[0m\n\u001b[1;32m    686\u001b[0m     )\n\u001b[1;32m    687\u001b[0m \u001b[0;34m\u001b[0m\u001b[0m\n\u001b[0;32m--> 688\u001b[0;31m     \u001b[0;32mreturn\u001b[0m \u001b[0m_read\u001b[0m\u001b[0;34m(\u001b[0m\u001b[0mfilepath_or_buffer\u001b[0m\u001b[0;34m,\u001b[0m \u001b[0mkwds\u001b[0m\u001b[0;34m)\u001b[0m\u001b[0;34m\u001b[0m\u001b[0;34m\u001b[0m\u001b[0m\n\u001b[0m\u001b[1;32m    689\u001b[0m \u001b[0;34m\u001b[0m\u001b[0m\n\u001b[1;32m    690\u001b[0m \u001b[0;34m\u001b[0m\u001b[0m\n",
            "\u001b[0;32m/usr/local/lib/python3.7/dist-packages/pandas/io/parsers.py\u001b[0m in \u001b[0;36m_read\u001b[0;34m(filepath_or_buffer, kwds)\u001b[0m\n\u001b[1;32m    452\u001b[0m \u001b[0;34m\u001b[0m\u001b[0m\n\u001b[1;32m    453\u001b[0m     \u001b[0;31m# Create the parser.\u001b[0m\u001b[0;34m\u001b[0m\u001b[0;34m\u001b[0m\u001b[0;34m\u001b[0m\u001b[0m\n\u001b[0;32m--> 454\u001b[0;31m     \u001b[0mparser\u001b[0m \u001b[0;34m=\u001b[0m \u001b[0mTextFileReader\u001b[0m\u001b[0;34m(\u001b[0m\u001b[0mfp_or_buf\u001b[0m\u001b[0;34m,\u001b[0m \u001b[0;34m**\u001b[0m\u001b[0mkwds\u001b[0m\u001b[0;34m)\u001b[0m\u001b[0;34m\u001b[0m\u001b[0;34m\u001b[0m\u001b[0m\n\u001b[0m\u001b[1;32m    455\u001b[0m \u001b[0;34m\u001b[0m\u001b[0m\n\u001b[1;32m    456\u001b[0m     \u001b[0;32mif\u001b[0m \u001b[0mchunksize\u001b[0m \u001b[0;32mor\u001b[0m \u001b[0miterator\u001b[0m\u001b[0;34m:\u001b[0m\u001b[0;34m\u001b[0m\u001b[0;34m\u001b[0m\u001b[0m\n",
            "\u001b[0;32m/usr/local/lib/python3.7/dist-packages/pandas/io/parsers.py\u001b[0m in \u001b[0;36m__init__\u001b[0;34m(self, f, engine, **kwds)\u001b[0m\n\u001b[1;32m    946\u001b[0m             \u001b[0mself\u001b[0m\u001b[0;34m.\u001b[0m\u001b[0moptions\u001b[0m\u001b[0;34m[\u001b[0m\u001b[0;34m\"has_index_names\"\u001b[0m\u001b[0;34m]\u001b[0m \u001b[0;34m=\u001b[0m \u001b[0mkwds\u001b[0m\u001b[0;34m[\u001b[0m\u001b[0;34m\"has_index_names\"\u001b[0m\u001b[0;34m]\u001b[0m\u001b[0;34m\u001b[0m\u001b[0;34m\u001b[0m\u001b[0m\n\u001b[1;32m    947\u001b[0m \u001b[0;34m\u001b[0m\u001b[0m\n\u001b[0;32m--> 948\u001b[0;31m         \u001b[0mself\u001b[0m\u001b[0;34m.\u001b[0m\u001b[0m_make_engine\u001b[0m\u001b[0;34m(\u001b[0m\u001b[0mself\u001b[0m\u001b[0;34m.\u001b[0m\u001b[0mengine\u001b[0m\u001b[0;34m)\u001b[0m\u001b[0;34m\u001b[0m\u001b[0;34m\u001b[0m\u001b[0m\n\u001b[0m\u001b[1;32m    949\u001b[0m \u001b[0;34m\u001b[0m\u001b[0m\n\u001b[1;32m    950\u001b[0m     \u001b[0;32mdef\u001b[0m \u001b[0mclose\u001b[0m\u001b[0;34m(\u001b[0m\u001b[0mself\u001b[0m\u001b[0;34m)\u001b[0m\u001b[0;34m:\u001b[0m\u001b[0;34m\u001b[0m\u001b[0;34m\u001b[0m\u001b[0m\n",
            "\u001b[0;32m/usr/local/lib/python3.7/dist-packages/pandas/io/parsers.py\u001b[0m in \u001b[0;36m_make_engine\u001b[0;34m(self, engine)\u001b[0m\n\u001b[1;32m   1178\u001b[0m     \u001b[0;32mdef\u001b[0m \u001b[0m_make_engine\u001b[0m\u001b[0;34m(\u001b[0m\u001b[0mself\u001b[0m\u001b[0;34m,\u001b[0m \u001b[0mengine\u001b[0m\u001b[0;34m=\u001b[0m\u001b[0;34m\"c\"\u001b[0m\u001b[0;34m)\u001b[0m\u001b[0;34m:\u001b[0m\u001b[0;34m\u001b[0m\u001b[0;34m\u001b[0m\u001b[0m\n\u001b[1;32m   1179\u001b[0m         \u001b[0;32mif\u001b[0m \u001b[0mengine\u001b[0m \u001b[0;34m==\u001b[0m \u001b[0;34m\"c\"\u001b[0m\u001b[0;34m:\u001b[0m\u001b[0;34m\u001b[0m\u001b[0;34m\u001b[0m\u001b[0m\n\u001b[0;32m-> 1180\u001b[0;31m             \u001b[0mself\u001b[0m\u001b[0;34m.\u001b[0m\u001b[0m_engine\u001b[0m \u001b[0;34m=\u001b[0m \u001b[0mCParserWrapper\u001b[0m\u001b[0;34m(\u001b[0m\u001b[0mself\u001b[0m\u001b[0;34m.\u001b[0m\u001b[0mf\u001b[0m\u001b[0;34m,\u001b[0m \u001b[0;34m**\u001b[0m\u001b[0mself\u001b[0m\u001b[0;34m.\u001b[0m\u001b[0moptions\u001b[0m\u001b[0;34m)\u001b[0m\u001b[0;34m\u001b[0m\u001b[0;34m\u001b[0m\u001b[0m\n\u001b[0m\u001b[1;32m   1181\u001b[0m         \u001b[0;32melse\u001b[0m\u001b[0;34m:\u001b[0m\u001b[0;34m\u001b[0m\u001b[0;34m\u001b[0m\u001b[0m\n\u001b[1;32m   1182\u001b[0m             \u001b[0;32mif\u001b[0m \u001b[0mengine\u001b[0m \u001b[0;34m==\u001b[0m \u001b[0;34m\"python\"\u001b[0m\u001b[0;34m:\u001b[0m\u001b[0;34m\u001b[0m\u001b[0;34m\u001b[0m\u001b[0m\n",
            "\u001b[0;32m/usr/local/lib/python3.7/dist-packages/pandas/io/parsers.py\u001b[0m in \u001b[0;36m__init__\u001b[0;34m(self, src, **kwds)\u001b[0m\n\u001b[1;32m   2008\u001b[0m         \u001b[0mkwds\u001b[0m\u001b[0;34m[\u001b[0m\u001b[0;34m\"usecols\"\u001b[0m\u001b[0;34m]\u001b[0m \u001b[0;34m=\u001b[0m \u001b[0mself\u001b[0m\u001b[0;34m.\u001b[0m\u001b[0musecols\u001b[0m\u001b[0;34m\u001b[0m\u001b[0;34m\u001b[0m\u001b[0m\n\u001b[1;32m   2009\u001b[0m \u001b[0;34m\u001b[0m\u001b[0m\n\u001b[0;32m-> 2010\u001b[0;31m         \u001b[0mself\u001b[0m\u001b[0;34m.\u001b[0m\u001b[0m_reader\u001b[0m \u001b[0;34m=\u001b[0m \u001b[0mparsers\u001b[0m\u001b[0;34m.\u001b[0m\u001b[0mTextReader\u001b[0m\u001b[0;34m(\u001b[0m\u001b[0msrc\u001b[0m\u001b[0;34m,\u001b[0m \u001b[0;34m**\u001b[0m\u001b[0mkwds\u001b[0m\u001b[0;34m)\u001b[0m\u001b[0;34m\u001b[0m\u001b[0;34m\u001b[0m\u001b[0m\n\u001b[0m\u001b[1;32m   2011\u001b[0m         \u001b[0mself\u001b[0m\u001b[0;34m.\u001b[0m\u001b[0munnamed_cols\u001b[0m \u001b[0;34m=\u001b[0m \u001b[0mself\u001b[0m\u001b[0;34m.\u001b[0m\u001b[0m_reader\u001b[0m\u001b[0;34m.\u001b[0m\u001b[0munnamed_cols\u001b[0m\u001b[0;34m\u001b[0m\u001b[0;34m\u001b[0m\u001b[0m\n\u001b[1;32m   2012\u001b[0m \u001b[0;34m\u001b[0m\u001b[0m\n",
            "\u001b[0;32mpandas/_libs/parsers.pyx\u001b[0m in \u001b[0;36mpandas._libs.parsers.TextReader.__cinit__\u001b[0;34m()\u001b[0m\n",
            "\u001b[0;32mpandas/_libs/parsers.pyx\u001b[0m in \u001b[0;36mpandas._libs.parsers.TextReader._setup_parser_source\u001b[0;34m()\u001b[0m\n",
            "\u001b[0;31mFileNotFoundError\u001b[0m: [Errno 2] No such file or directory: '/content/drive/MyDrive/Colab Notebooks/Annual_CO2.csv'"
          ]
        }
      ]
    },
    {
      "cell_type": "code",
      "metadata": {
        "id": "vZ5Yhfuf7Ryj"
      },
      "source": [
        "year_co2 = df_co2[\"Year\"]\n",
        "co2 = df_co2[\"CO2 (ppm)\"]"
      ],
      "execution_count": null,
      "outputs": []
    },
    {
      "cell_type": "code",
      "metadata": {
        "id": "1yqhrpYW7Ryj"
      },
      "source": [
        "import matplotlib.pyplot as plt\n",
        "plt.plot(year_co2, co2)\n",
        "plt.title(\"Change in CO2 Over Time\")\n",
        "plt.ylabel(\"CO2 (ppm)\")\n",
        "plt.xlabel(\"Years\")\n",
        "plt.show()"
      ],
      "execution_count": null,
      "outputs": []
    },
    {
      "cell_type": "markdown",
      "metadata": {
        "id": "3LiwZDiP7Ryl"
      },
      "source": [
        "## 🟢 Module 3: Evaluating Storm Surge Risk\n",
        "\n",
        "In this module, you will explore the risk to different countries around the world caused by sea level rise and increasing storms."
      ]
    },
    {
      "cell_type": "markdown",
      "metadata": {
        "id": "SdqdikTW7Ryn"
      },
      "source": [
        "We will be plotting our data using matplotlib, so import that library with its alias:"
      ]
    },
    {
      "cell_type": "code",
      "metadata": {
        "id": "tggRHSc27Ryp"
      },
      "source": [
        "import matplotlib.pyplot as plt"
      ],
      "execution_count": null,
      "outputs": []
    },
    {
      "cell_type": "markdown",
      "metadata": {
        "id": "0idkYAD27Ryq"
      },
      "source": [
        "### Exploring the data\n",
        "Look on Slack for your region and copy and paste the list of data into the cell below (remember to assign it to a variable):\n",
        "\n",
        "Note: Your data is a list of lists. Each list contains the following values for the countries in your region with the largest percentage of urban inhabitants:\n",
        "- Country name\n",
        "- Latitude\n",
        "- Longitude\n",
        "- Population (2008)\n",
        "- Population in storm surge area (2008)"
      ]
    },
    {
      "cell_type": "code",
      "metadata": {
        "id": "luw8HYWy7Ryr"
      },
      "source": [
        "Africa_data = [[\"Djibouti\", 11.825138, 42.590275, 709200, 173190], [\"Gabon\", -0.803689, 11.609444, 1485830, 170420],\n",
        "        [\"Libya\", 26.3351, 17.228331, 6187040, 155100], [\"Tunisia\", 33.886917, 9.537499, 10383580, 536070],\n",
        "        [\"Algeria\", 28.033886, 1.659626, 33769670, 164850], [\"Congo, Rep.\", -0.228021, 15.827659, 3905010, 58120],\n",
        "        [\"South Africa\", -30.559482, 22.937506, 48782760, 393470], [\"Sao Tome and Principe\", 0.18636, 6.613081, 168410, 7700],\n",
        "        [\"Liberia\", 6.428055, -9.429499, 3440370, 252290], [\"Cape Verde\", 16.002082, -24.013197, 493620, 19780]]"
      ],
      "execution_count": null,
      "outputs": []
    },
    {
      "cell_type": "markdown",
      "metadata": {
        "id": "Pwm6RfW-7Ryr"
      },
      "source": [
        "Let's practice using list indexes. Print out the first list from your data:"
      ]
    },
    {
      "cell_type": "code",
      "metadata": {
        "id": "bDQ4LZkW7Ryr",
        "colab": {
          "base_uri": "https://localhost:8080/"
        },
        "outputId": "c26a1cc5-eae9-4efb-e9b5-e6a541ce88fd"
      },
      "source": [
        "#Print the first list\n",
        "Africa_data[0]"
      ],
      "execution_count": null,
      "outputs": [
        {
          "output_type": "execute_result",
          "data": {
            "text/plain": [
              "['Djibouti', 11.825138, 42.590275, 709200, 173190]"
            ]
          },
          "metadata": {
            "tags": []
          },
          "execution_count": 19
        }
      ]
    },
    {
      "cell_type": "markdown",
      "metadata": {
        "id": "pYElfQtF7Rys"
      },
      "source": [
        "Now, print out just the latitude from that list:"
      ]
    },
    {
      "cell_type": "code",
      "metadata": {
        "id": "Gx24rUlv7Rys",
        "colab": {
          "base_uri": "https://localhost:8080/"
        },
        "outputId": "65d3a9b4-2c7b-43eb-825f-4dd09dc86ee1"
      },
      "source": [
        "# Hint: If one of the values in a list is a list itself, you can index it like this: my_list[0][0]\n",
        "Africa_data[0][1]\n"
      ],
      "execution_count": null,
      "outputs": [
        {
          "output_type": "execute_result",
          "data": {
            "text/plain": [
              "11.825138"
            ]
          },
          "metadata": {
            "tags": []
          },
          "execution_count": 20
        }
      ]
    },
    {
      "cell_type": "markdown",
      "metadata": {
        "id": "crQQ9F4v7Ryt"
      },
      "source": [
        "You can select more than one value from a list using a \"slice\". \n",
        "\n",
        "For example, [0] selects just the first value and [1] selects just the second value, but [0:2] selects values one and two. \n",
        "\n",
        "Note: you need to slice from the first value you want to **the last value you want +1**\n",
        "\n",
        "Try it yourself! Print out the latitude and longitude from the first item in your list using a slice:"
      ]
    },
    {
      "cell_type": "code",
      "metadata": {
        "id": "-0Jx8rBd7Ryu",
        "colab": {
          "base_uri": "https://localhost:8080/"
        },
        "outputId": "7b6c7047-5fa2-4207-e673-5f5686b4fc0c"
      },
      "source": [
        "Africa_data[0][1:3] #Latitude is index 1, longitude is index 2"
      ],
      "execution_count": null,
      "outputs": [
        {
          "output_type": "execute_result",
          "data": {
            "text/plain": [
              "[11.825138, 42.590275]"
            ]
          },
          "metadata": {
            "tags": []
          },
          "execution_count": 21
        }
      ]
    },
    {
      "cell_type": "markdown",
      "metadata": {
        "id": "A1kKcrEI7Ryv"
      },
      "source": [
        "## Assessing risk\n",
        "\n",
        "Let's find out which countries in your region are at the highest risk. \n",
        "\n",
        "First, write code that loops through each list in your data and prints out the population in the storm surge area:"
      ]
    },
    {
      "cell_type": "code",
      "metadata": {
        "id": "soJM20yQ7Ryw",
        "colab": {
          "base_uri": "https://localhost:8080/"
        },
        "outputId": "eaa89df0-a2a4-482c-d76d-ddd8645daba7"
      },
      "source": [
        "#Storm surge area population index is 4\n",
        "for region_list in Africa_data:\n",
        "  print(region_list[4])"
      ],
      "execution_count": null,
      "outputs": [
        {
          "output_type": "stream",
          "text": [
            "173190\n",
            "170420\n",
            "155100\n",
            "536070\n",
            "164850\n",
            "58120\n",
            "393470\n",
            "7700\n",
            "252290\n",
            "19780\n"
          ],
          "name": "stdout"
        }
      ]
    },
    {
      "cell_type": "markdown",
      "metadata": {
        "id": "JuvMLlr-7Ryw"
      },
      "source": [
        "Now write code that prints the percent of the population in each country that lives in the storm surge area:\n",
        "Note: percent = subset/total * 100"
      ]
    },
    {
      "cell_type": "code",
      "metadata": {
        "id": "1t7Mfvz47Ryw",
        "colab": {
          "base_uri": "https://localhost:8080/"
        },
        "outputId": "8b1041d9-6e59-41ae-f8f1-7b3bf98846e4"
      },
      "source": [
        "# For a challenge, try including the name of the country in your print statement\n",
        "for i in Africa_data:\n",
        "  #population in storm surge area, index 4 AND total population, index 3\n",
        "  #percent = subset/total * 100\n",
        "  percent = i[4]/i[3] * 100\n",
        "  print(i[0], \" - \", percent)"
      ],
      "execution_count": null,
      "outputs": [
        {
          "output_type": "stream",
          "text": [
            "Djibouti  -  24.420473773265652\n",
            "Gabon  -  11.469683611180283\n",
            "Libya  -  2.506853034730663\n",
            "Tunisia  -  5.162670292904759\n",
            "Algeria  -  0.48815993760081167\n",
            "Congo, Rep.  -  1.488344460065403\n",
            "South Africa  -  0.8065759296931948\n",
            "Sao Tome and Principe  -  4.57217504898759\n",
            "Liberia  -  7.333222880097198\n",
            "Cape Verde  -  4.0071309914509134\n"
          ],
          "name": "stdout"
        }
      ]
    },
    {
      "cell_type": "markdown",
      "metadata": {
        "id": "FaI4M-ZO7Ryx"
      },
      "source": [
        "## Mapping the data\n",
        "\n",
        "Let's put these countries on the map! We're going to plot each country on a map of your region, which means we need to create lists of the latitude and longitudes. To represent the risk each country faces from sea level rise, let's create sets of lists for each of the following risk levels:\n",
        "- Low risk (% pop in storm surge area <=5)\n",
        "- Medium risk (% pop in storm surge area >5 and <10)\n",
        "- High risk (% pop in storm surge area >=10)"
      ]
    },
    {
      "cell_type": "markdown",
      "metadata": {
        "id": "naw77-1d7Ryx"
      },
      "source": [
        "Write code below that creates fills in 6 lists: lat_low, lon_low, lat_med, lon_med, lat_high, lon_high:"
      ]
    },
    {
      "cell_type": "code",
      "metadata": {
        "id": "dnXPw4qx7Ryx"
      },
      "source": [
        "lat_low = []\n",
        "lon_low = []\n",
        "\n",
        "lat_med = []\n",
        "lon_med = []\n",
        "\n",
        "\n",
        "lat_high = []\n",
        "lon_high = []\n",
        "\n",
        "#Latitude is in index 1, longitude is in index 2\n",
        "\n",
        "\n",
        "for i in Africa_data:\n",
        "  percent = i[4]/i[3] * 100 #Percent in each country \n",
        "\n",
        "  # Case 1: Percent population in storm surge area must be 5% or less (low risk)\n",
        "  if percent <= 5:\n",
        "    lat_low.append(i[1])\n",
        "    lon_low.append(i[2])\n",
        "\n",
        "  # Case 2: Percent population in storm surge area between 5% and 10% (medium risk)\n",
        "  elif 5 < percent < 10:\n",
        "    lat_med.append(i[1])\n",
        "    lon_med.append(i[2])\n",
        "\n",
        "  # Case 3: Percent population in storm surge area must be 10% or more (high risk)\n",
        "  else:\n",
        "    lat_high.append(i[1])\n",
        "    lon_high.append(i[2])\n"
      ],
      "execution_count": null,
      "outputs": []
    },
    {
      "cell_type": "markdown",
      "metadata": {
        "id": "AEK_QOwB7Ryy"
      },
      "source": [
        "Print out your lat and lon lists to check that they contain the right values:"
      ]
    },
    {
      "cell_type": "code",
      "metadata": {
        "id": "kmojp9R77Ryy"
      },
      "source": [
        "print(lat_low)\n",
        "print(lon_low)\n",
        "print(lat_med)\n",
        "print(lon_med)\n",
        "print(lat_high)\n",
        "print(lon_high)"
      ],
      "execution_count": null,
      "outputs": []
    },
    {
      "cell_type": "markdown",
      "metadata": {
        "id": "G1Ub1ZKv7Ryy"
      },
      "source": [
        "We will reuse code from the Earthquakes final project here. \n",
        "\n",
        "Remember to replace the coordinates in plt.xlim and plt.ylim functions below as follows:\n",
        "- Africa: x = (-25,50), y = (-40,45)\n",
        "- Asia: x = (30,150), y = (5,55)\n",
        "- Europe: x = (-10,30), y = (35,70)\n",
        "- Latin & South America: x = (-90,-35), y = (-55,35)\n",
        "- Oceania: x = (-180,180), y = (-60,85)\n",
        "\n",
        "You will also have to create your own plt.scatter() plots. You will need to use the plt.scatter() function three times: once for each set of lists you created above. "
      ]
    },
    {
      "cell_type": "code",
      "metadata": {
        "id": "P7BiJvkj7Ryy",
        "colab": {
          "base_uri": "https://localhost:8080/",
          "height": 375
        },
        "outputId": "409b003d-7bad-41aa-f012-ed358b21be39"
      },
      "source": [
        "# This code adds an image behind your plot\n",
        "image = plt.imread(\"/content/drive/MyDrive/Colab Notebooks/earth.jpg\")\n",
        "fig, ax = plt.subplots()\n",
        "ax.imshow(image, extent = [-180,180,-90,90])\n",
        "\n",
        "# This code crops the image to show only your region. \n",
        "# IMPORTANT: Replace the coordinates in plt.xlim and plt.ylim functions\n",
        "# To match your region using the key above\n",
        "plt.xlim(-180,180)\n",
        "plt.ylim(-60,85)\n",
        "\n",
        "# Create a scatter plot using plt.scatter(). \n",
        "# You can change the size, shape, and color of your markers! \n",
        "# Try adding s = #, marker = \"symbol\", and c = \"color\"\n",
        "plt.scatter(lon_low, lat_low, c = \"yellow\") #Low risk\n",
        "plt.scatter(lon_med, lat_med, c = \"orange\") #Medium risk\n",
        "plt.scatter(lon_high, lat_high, c= \"red\") #High risk\n",
        "\n",
        "\n",
        "plt.show()"
      ],
      "execution_count": null,
      "outputs": [
        {
          "output_type": "error",
          "ename": "FileNotFoundError",
          "evalue": "ignored",
          "traceback": [
            "\u001b[0;31m---------------------------------------------------------------------------\u001b[0m",
            "\u001b[0;31mFileNotFoundError\u001b[0m                         Traceback (most recent call last)",
            "\u001b[0;32m<ipython-input-26-adaa05871ebf>\u001b[0m in \u001b[0;36m<module>\u001b[0;34m()\u001b[0m\n\u001b[1;32m      1\u001b[0m \u001b[0;31m# This code adds an image behind your plot\u001b[0m\u001b[0;34m\u001b[0m\u001b[0;34m\u001b[0m\u001b[0;34m\u001b[0m\u001b[0m\n\u001b[0;32m----> 2\u001b[0;31m \u001b[0mimage\u001b[0m \u001b[0;34m=\u001b[0m \u001b[0mplt\u001b[0m\u001b[0;34m.\u001b[0m\u001b[0mimread\u001b[0m\u001b[0;34m(\u001b[0m\u001b[0;34m\"/content/drive/MyDrive/Colab Notebooks/earth.jpg\"\u001b[0m\u001b[0;34m)\u001b[0m\u001b[0;34m\u001b[0m\u001b[0;34m\u001b[0m\u001b[0m\n\u001b[0m\u001b[1;32m      3\u001b[0m \u001b[0mfig\u001b[0m\u001b[0;34m,\u001b[0m \u001b[0max\u001b[0m \u001b[0;34m=\u001b[0m \u001b[0mplt\u001b[0m\u001b[0;34m.\u001b[0m\u001b[0msubplots\u001b[0m\u001b[0;34m(\u001b[0m\u001b[0;34m)\u001b[0m\u001b[0;34m\u001b[0m\u001b[0;34m\u001b[0m\u001b[0m\n\u001b[1;32m      4\u001b[0m \u001b[0max\u001b[0m\u001b[0;34m.\u001b[0m\u001b[0mimshow\u001b[0m\u001b[0;34m(\u001b[0m\u001b[0mimage\u001b[0m\u001b[0;34m,\u001b[0m \u001b[0mextent\u001b[0m \u001b[0;34m=\u001b[0m \u001b[0;34m[\u001b[0m\u001b[0;34m-\u001b[0m\u001b[0;36m180\u001b[0m\u001b[0;34m,\u001b[0m\u001b[0;36m180\u001b[0m\u001b[0;34m,\u001b[0m\u001b[0;34m-\u001b[0m\u001b[0;36m90\u001b[0m\u001b[0;34m,\u001b[0m\u001b[0;36m90\u001b[0m\u001b[0;34m]\u001b[0m\u001b[0;34m)\u001b[0m\u001b[0;34m\u001b[0m\u001b[0;34m\u001b[0m\u001b[0m\n\u001b[1;32m      5\u001b[0m \u001b[0;34m\u001b[0m\u001b[0m\n",
            "\u001b[0;32m/usr/local/lib/python3.7/dist-packages/matplotlib/pyplot.py\u001b[0m in \u001b[0;36mimread\u001b[0;34m(fname, format)\u001b[0m\n\u001b[1;32m   2059\u001b[0m \u001b[0;34m@\u001b[0m\u001b[0mdocstring\u001b[0m\u001b[0;34m.\u001b[0m\u001b[0mcopy\u001b[0m\u001b[0;34m(\u001b[0m\u001b[0mmatplotlib\u001b[0m\u001b[0;34m.\u001b[0m\u001b[0mimage\u001b[0m\u001b[0;34m.\u001b[0m\u001b[0mimread\u001b[0m\u001b[0;34m)\u001b[0m\u001b[0;34m\u001b[0m\u001b[0;34m\u001b[0m\u001b[0m\n\u001b[1;32m   2060\u001b[0m \u001b[0;32mdef\u001b[0m \u001b[0mimread\u001b[0m\u001b[0;34m(\u001b[0m\u001b[0mfname\u001b[0m\u001b[0;34m,\u001b[0m \u001b[0mformat\u001b[0m\u001b[0;34m=\u001b[0m\u001b[0;32mNone\u001b[0m\u001b[0;34m)\u001b[0m\u001b[0;34m:\u001b[0m\u001b[0;34m\u001b[0m\u001b[0;34m\u001b[0m\u001b[0m\n\u001b[0;32m-> 2061\u001b[0;31m     \u001b[0;32mreturn\u001b[0m \u001b[0mmatplotlib\u001b[0m\u001b[0;34m.\u001b[0m\u001b[0mimage\u001b[0m\u001b[0;34m.\u001b[0m\u001b[0mimread\u001b[0m\u001b[0;34m(\u001b[0m\u001b[0mfname\u001b[0m\u001b[0;34m,\u001b[0m \u001b[0mformat\u001b[0m\u001b[0;34m)\u001b[0m\u001b[0;34m\u001b[0m\u001b[0;34m\u001b[0m\u001b[0m\n\u001b[0m\u001b[1;32m   2062\u001b[0m \u001b[0;34m\u001b[0m\u001b[0m\n\u001b[1;32m   2063\u001b[0m \u001b[0;34m\u001b[0m\u001b[0m\n",
            "\u001b[0;32m/usr/local/lib/python3.7/dist-packages/matplotlib/image.py\u001b[0m in \u001b[0;36mimread\u001b[0;34m(fname, format)\u001b[0m\n\u001b[1;32m   1462\u001b[0m             raise ValueError('Only know how to handle PNG; with Pillow '\n\u001b[1;32m   1463\u001b[0m                              'installed, Matplotlib can handle more images')\n\u001b[0;32m-> 1464\u001b[0;31m         \u001b[0;32mwith\u001b[0m \u001b[0mImage\u001b[0m\u001b[0;34m.\u001b[0m\u001b[0mopen\u001b[0m\u001b[0;34m(\u001b[0m\u001b[0mfname\u001b[0m\u001b[0;34m)\u001b[0m \u001b[0;32mas\u001b[0m \u001b[0mimage\u001b[0m\u001b[0;34m:\u001b[0m\u001b[0;34m\u001b[0m\u001b[0;34m\u001b[0m\u001b[0m\n\u001b[0m\u001b[1;32m   1465\u001b[0m             \u001b[0;32mreturn\u001b[0m \u001b[0mpil_to_array\u001b[0m\u001b[0;34m(\u001b[0m\u001b[0mimage\u001b[0m\u001b[0;34m)\u001b[0m\u001b[0;34m\u001b[0m\u001b[0;34m\u001b[0m\u001b[0m\n\u001b[1;32m   1466\u001b[0m     \u001b[0;32mfrom\u001b[0m \u001b[0mmatplotlib\u001b[0m \u001b[0;32mimport\u001b[0m \u001b[0m_png\u001b[0m\u001b[0;34m\u001b[0m\u001b[0;34m\u001b[0m\u001b[0m\n",
            "\u001b[0;32m/usr/local/lib/python3.7/dist-packages/PIL/Image.py\u001b[0m in \u001b[0;36mopen\u001b[0;34m(fp, mode)\u001b[0m\n\u001b[1;32m   2841\u001b[0m \u001b[0;34m\u001b[0m\u001b[0m\n\u001b[1;32m   2842\u001b[0m     \u001b[0;32mif\u001b[0m \u001b[0mfilename\u001b[0m\u001b[0;34m:\u001b[0m\u001b[0;34m\u001b[0m\u001b[0;34m\u001b[0m\u001b[0m\n\u001b[0;32m-> 2843\u001b[0;31m         \u001b[0mfp\u001b[0m \u001b[0;34m=\u001b[0m \u001b[0mbuiltins\u001b[0m\u001b[0;34m.\u001b[0m\u001b[0mopen\u001b[0m\u001b[0;34m(\u001b[0m\u001b[0mfilename\u001b[0m\u001b[0;34m,\u001b[0m \u001b[0;34m\"rb\"\u001b[0m\u001b[0;34m)\u001b[0m\u001b[0;34m\u001b[0m\u001b[0;34m\u001b[0m\u001b[0m\n\u001b[0m\u001b[1;32m   2844\u001b[0m         \u001b[0mexclusive_fp\u001b[0m \u001b[0;34m=\u001b[0m \u001b[0;32mTrue\u001b[0m\u001b[0;34m\u001b[0m\u001b[0;34m\u001b[0m\u001b[0m\n\u001b[1;32m   2845\u001b[0m \u001b[0;34m\u001b[0m\u001b[0m\n",
            "\u001b[0;31mFileNotFoundError\u001b[0m: [Errno 2] No such file or directory: '/content/drive/MyDrive/Colab Notebooks/earth.jpg'"
          ]
        }
      ]
    },
    {
      "cell_type": "markdown",
      "metadata": {
        "id": "q0n2zX447Ryz"
      },
      "source": [
        "## 🟢 Module 4: Creating a Sea Temperature Color Map\n",
        "\n",
        "In this module, you'll learn how to adapt existing code to fit your particular data set. You won't need to use all of these functions again, but you should understand how they work.\n",
        "\n",
        "**Reminder: To run the code in a Jupyter Notebook cell, click inside the cell and press \"shift\" and \"return\" on your keyboard at the same time.**"
      ]
    },
    {
      "cell_type": "markdown",
      "metadata": {
        "id": "ukUVXzLG7Ryz"
      },
      "source": [
        "Let's start out by importing all the libraries we'll need:"
      ]
    },
    {
      "cell_type": "code",
      "metadata": {
        "id": "7t8wU5XC7Ryz"
      },
      "source": [
        "import matplotlib.pyplot as plt\n",
        "import numpy as np\n",
        "import csv # This is a library that allows us to work with CSV files even if we're not using pandas"
      ],
      "execution_count": null,
      "outputs": []
    },
    {
      "cell_type": "markdown",
      "metadata": {
        "id": "99Ivlops7Ry0"
      },
      "source": [
        "This code opens the data file, create a CSV reader object to read the data, and converts it into a list or lists using the built in Python list() function."
      ]
    },
    {
      "cell_type": "code",
      "metadata": {
        "id": "TAe3Vs4a7Ry0"
      },
      "source": [
        "csvFile = open(\"SeaTemp12_2002.csv\", 'r') \n",
        "csvReader = csv.reader(csvFile, delimiter=',')\n",
        "data_lists = list(csvReader)"
      ],
      "execution_count": null,
      "outputs": []
    },
    {
      "cell_type": "markdown",
      "metadata": {
        "id": "iQPoykxW7Ry1"
      },
      "source": [
        "Let's take a look at the first item in data_lists:"
      ]
    },
    {
      "cell_type": "code",
      "metadata": {
        "id": "R5kAY-Vy7Ry1"
      },
      "source": [
        "# This is just one row!\n",
        "#print(data_lists[0])"
      ],
      "execution_count": null,
      "outputs": []
    },
    {
      "cell_type": "markdown",
      "metadata": {
        "id": "2C3fpc3S7Ry1"
      },
      "source": [
        "That was a lot of data! Let's use the len() function to find out how many data points there were in **just one row**:"
      ]
    },
    {
      "cell_type": "code",
      "metadata": {
        "id": "4gYAia1u7Ry1"
      },
      "source": [
        ""
      ],
      "execution_count": null,
      "outputs": []
    },
    {
      "cell_type": "markdown",
      "metadata": {
        "id": "_pOaeHpu7Ry1"
      },
      "source": [
        "Let's find out how many of those there are! Use the len() function:"
      ]
    },
    {
      "cell_type": "code",
      "metadata": {
        "id": "n6NQMK0A7Ry2"
      },
      "source": [
        ""
      ],
      "execution_count": null,
      "outputs": []
    },
    {
      "cell_type": "markdown",
      "metadata": {
        "id": "XXj52rbP7Ry2"
      },
      "source": [
        "The number of items in one row is also the width of the image we are creating. The number of rows is the height. Let's assign these values to variable so we can use them later:"
      ]
    },
    {
      "cell_type": "code",
      "metadata": {
        "id": "OwK577Hl7Ry2"
      },
      "source": [
        ""
      ],
      "execution_count": null,
      "outputs": []
    },
    {
      "cell_type": "markdown",
      "metadata": {
        "id": "i1Fi97ig7Ry2"
      },
      "source": [
        "Now we're going to use a new numpy function that creates an empty matrix. A matrix is like a grid made up of lists."
      ]
    },
    {
      "cell_type": "code",
      "metadata": {
        "id": "MEMjrZCB7Ry3"
      },
      "source": [
        "grid = np.empty([height, width, 3], dtype=np.uint8) \n",
        "# We have to specify the height and width of the matrix along with the number of items \n",
        "# we can put in each spot on the grid. We want 3 because each color value has 3 numbers.\n",
        "# Finally, we specify the type of data we will put into the matrix."
      ],
      "execution_count": null,
      "outputs": []
    },
    {
      "cell_type": "markdown",
      "metadata": {
        "id": "onmNMyqQ7Ry4"
      },
      "source": [
        "Now we're going to use some code you're used to: \"for loops\" and conditionals! But we are making things a little more complicated using the enumerate() function. Using enumerate(), you keep track of both the index and the value in a \"for loop\"."
      ]
    },
    {
      "cell_type": "code",
      "metadata": {
        "id": "nDhrUwwE7Ry4"
      },
      "source": [
        "all_values = [] # We will fill in this empty list with all the data values as we go\n",
        "\n",
        "for r, row in enumerate(data_lists):\n",
        "    for c, value in enumerate(row):\n",
        "        if float(value) < 99999:\n",
        "            all_values.append(float(value)) # This is where we fill in the list with all data values\n",
        "        if float(value) <= -10:\n",
        "            grid[r, c] = [0, 0, 0]\n",
        "        elif float(value) <= -5:\n",
        "            grid[r, c] = [0, 0, 0]\n",
        "        elif float(value) <= 0:\n",
        "            grid[r, c] = [0, 0, 0]\n",
        "        elif float(value) <= 2:\n",
        "            grid[r, c] = [0, 0, 0]\n",
        "        elif float(value) <= 5:\n",
        "            grid[r, c] = [0, 0, 0]\n",
        "        elif float(value) <= 10:\n",
        "            grid[r, c] = [0, 0, 0]\n",
        "        else:\n",
        "            grid[r, c] = [0, 0, 0]"
      ],
      "execution_count": null,
      "outputs": []
    },
    {
      "cell_type": "markdown",
      "metadata": {
        "id": "EQXBpW2B7Ry5"
      },
      "source": [
        "Now that we have all of our data in a single list, we can find the max and the min:\n",
        "Hint: Use this information to help you adjust your conditionals!"
      ]
    },
    {
      "cell_type": "code",
      "metadata": {
        "id": "NKk3BhV67Ry5"
      },
      "source": [
        ""
      ],
      "execution_count": null,
      "outputs": []
    },
    {
      "cell_type": "markdown",
      "metadata": {
        "id": "CkYiP7rJ7Ry5"
      },
      "source": [
        "Now it's time to use matplotlib to show our image! We already imported the library, so we can get right to it:"
      ]
    },
    {
      "cell_type": "code",
      "metadata": {
        "id": "lB55G9Nl7Ry5"
      },
      "source": [
        "plt.title(\"Global sea temperature in Celsius\")\n",
        "plt.imshow(grid)\n",
        "plt.axis('off')\n",
        "plt.savefig(\"Sea_temperature_2002.png\",dpi = 1000)\n",
        "plt.show()"
      ],
      "execution_count": null,
      "outputs": []
    },
    {
      "cell_type": "markdown",
      "metadata": {
        "id": "Cj37c3iA7Ry6"
      },
      "source": [
        "### Coding Challenge:\n",
        "Change the code so that you create a map for the sea temperature in 2016."
      ]
    },
    {
      "cell_type": "code",
      "metadata": {
        "id": "SXdDRsFb7Ry6"
      },
      "source": [
        ""
      ],
      "execution_count": null,
      "outputs": []
    },
    {
      "cell_type": "code",
      "metadata": {
        "id": "jHe03udk7Ry6"
      },
      "source": [
        ""
      ],
      "execution_count": null,
      "outputs": []
    },
    {
      "cell_type": "code",
      "metadata": {
        "id": "bfx_ckS27Ry6"
      },
      "source": [
        ""
      ],
      "execution_count": null,
      "outputs": []
    },
    {
      "cell_type": "markdown",
      "metadata": {
        "id": "k9cyCBzf7Ry6"
      },
      "source": [
        "## 🟢 Module 5: The Cultural-Societal Impact of Greenhouse Gas Emissions\n",
        "\n",
        "Pollution, mostly associated as a by-product of urban landscapes, is also linked with climate change. Both climate change and air pollution are exacerbated by the burning of fossil fuels, which increase CO2 emissions, the cause of global warming.\n",
        "\n",
        "In October 2018, the World Health Organization (WHO) said in a report that 93 per cent of the world’s children breathe toxic air every day. According to the report, 1.8 billion children breathe air that is so polluted it puts their health and development at serious risk. WHO estimates that in 2016, 600,000 children died from acute lower respiratory infections caused by polluted air. The report highlights that “More than 40% of the world’s population – which includes 1 billion children under 15 - is exposed to high levels of household air pollution from mainly cooking with polluting technologies and fuels.” In developing countries, women frequently rely on coal and biomass fuels for cooking and heating, putting them and their and their children at higher risk to the effects of home pollutants.\n",
        "\n",
        "WHO recommends and supports the implementation of policies to reduce air pollution, including better waste management, the use of clean technologies and fuels for household cooking, heating and lighting to improve the quality of air in homes.\n",
        "\n",
        "The effects of climate change are worse among poor and low-income communities, in part because many live on the margins of society, in unstable structures, and in areas more susceptible to flooding, landslides, earthquakes, but also because of inadequate capacities, inadequate resources and reduced access to emergency response systems. This is even more pronounced in developing countries.\n",
        "\n",
        "Source: https://www.un.org/en/climatechange/climate-solutions/cities-pollution\n",
        "\n",
        "\n",
        "\n",
        "GREENHOUSE GAS NYC DATA: https://data.cityofnewyork.us/Environment/Inventory-of-New-York-City-Greenhouse-Gas-Emission/k3e2-emsq\n",
        "<br>Explanation of data: https://www1.nyc.gov/assets/sustainability/downloads/pdf/publications/GHG%20Inventory%20Report%20Emission%20Year%202016.pdf\n",
        "\n",
        "\n",
        "**Instructions**: Use the csv data linked above to create a pie chart (search the matplotlib documentation for it online) comparing each of the 4 different transportation GHG (Greenhouse Gas) Emissions in NYC. Metric tons of carbon dioxide equivalent or MTCO2e is the unit of measurement in this tool. The unit \"CO2e\" represents an amount of a GHG whose atmospheric impact has been standardized to that of one unit mass of carbon dioxide (CO2), based on the global warming potential (GWP) of the gas.\n",
        "\n",
        "\n",
        "\n",
        "**Reminder: To run the code in a Jupyter Notebook cell, click inside the cell and press \"shift\" and \"return\" on your keyboard at the same time.**"
      ]
    },
    {
      "cell_type": "code",
      "metadata": {
        "id": "hDLsVcAN7Ry7"
      },
      "source": [
        "#Create a list of emissions for each type of transportation"
      ],
      "execution_count": null,
      "outputs": []
    },
    {
      "cell_type": "code",
      "metadata": {
        "id": "Y83Q3Lqj7Ry7"
      },
      "source": [
        "#Find total emissions per transportation type\n"
      ],
      "execution_count": null,
      "outputs": []
    },
    {
      "cell_type": "code",
      "metadata": {
        "id": "6kHPlnc87Ry7"
      },
      "source": [
        "#Convert each total into percentages.\n",
        "\n",
        "\n"
      ],
      "execution_count": null,
      "outputs": []
    },
    {
      "cell_type": "code",
      "metadata": {
        "id": "pXeBcl0b7Ry8"
      },
      "source": [
        "#Find matplotlib documentation for a pie chart. (https://matplotlib.org/stable/api/_as_gen/matplotlib.pyplot.pie.html)\n",
        "#Example: https://matplotlib.org/stable/gallery/pie_and_polar_charts/pie_features.html\n"
      ],
      "execution_count": null,
      "outputs": []
    },
    {
      "cell_type": "markdown",
      "metadata": {
        "id": "aIG5jb6W7Ry8"
      },
      "source": [
        "Edit this text cell to answer the following questions:\n",
        "\n",
        "1. What is global warming?\n",
        "\n",
        "\n",
        "2. Global warming and climate change impacts us through our oceans, our weather, our food sources, and our health. Describe the impact in each category.\n",
        "\n",
        "\n",
        "3. What must be done by society to combat global warming?\n",
        "    \n",
        "    \n",
        "   \n",
        "4. What can you do with computer science to help the cause?\n",
        "\n",
        "    \n",
        "    "
      ]
    },
    {
      "cell_type": "code",
      "metadata": {
        "id": "qIc0PTqv7Ry9"
      },
      "source": [
        ""
      ],
      "execution_count": null,
      "outputs": []
    }
  ]
}