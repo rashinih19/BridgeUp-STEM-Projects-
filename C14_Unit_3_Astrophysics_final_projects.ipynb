{
  "nbformat": 4,
  "nbformat_minor": 0,
  "metadata": {
    "kernelspec": {
      "display_name": "Python 3",
      "language": "python",
      "name": "python3"
    },
    "language_info": {
      "codemirror_mode": {
        "name": "ipython",
        "version": 3
      },
      "file_extension": ".py",
      "mimetype": "text/x-python",
      "name": "python",
      "nbconvert_exporter": "python",
      "pygments_lexer": "ipython3",
      "version": "3.8.3"
    },
    "colab": {
      "name": "C14 Unit 3 Astrophysics - final projects",
      "provenance": []
    }
  },
  "cells": [
    {
      "cell_type": "markdown",
      "metadata": {
        "id": "O4m7NijlCmYb"
      },
      "source": [
        "# 🟢Module 1: Analyzing lab data with pandas\n",
        "\n",
        "This module will walk you through the basics of **creating a pandas dataframe**. You'll use the data you collected in the distance vs brightness lab."
      ]
    },
    {
      "cell_type": "markdown",
      "metadata": {
        "id": "f5NYUGhTCmYe"
      },
      "source": [
        "First, let's import the pandas and matplotlib libraries:"
      ]
    },
    {
      "cell_type": "code",
      "metadata": {
        "id": "C6NyEQEGCmYe"
      },
      "source": [
        "import pandas as pd\n",
        "import matplotlib.pyplot as plt"
      ],
      "execution_count": null,
      "outputs": []
    },
    {
      "cell_type": "markdown",
      "metadata": {
        "id": "gGfJiWjJCmYf"
      },
      "source": [
        "Next, create 4 lists: 1 that contains your distance measurements and 3 that contain your brightness measurements from each experimental run."
      ]
    },
    {
      "cell_type": "markdown",
      "metadata": {
        "id": "X_5Mc6P1D8nU"
      },
      "source": [
        ""
      ]
    },
    {
      "cell_type": "code",
      "metadata": {
        "id": "j2iB8JUyCmYf"
      },
      "source": [
        "# Fill in the lists below\n",
        "dist = [0, 10, 20, 30, 40, 50, 60, 70, 80, 90, 100]\n",
        "brt1 = [18357, 3043, 821, 387, 193, 97, 47, 47, 47, 47, 47]\n",
        "brt2 = [18307, 3670, 964, 387, 193, 97, 47, 47, 47, 47, 47]\n",
        "brt3 = [17100, 3333, 868, 337, 193, 97, 47, 47, 47, 47, 47]"
      ],
      "execution_count": null,
      "outputs": []
    },
    {
      "cell_type": "markdown",
      "metadata": {
        "id": "6XqE1aofCmYg"
      },
      "source": [
        "Now we'll create a dataframe based on these lists using the pandas .DataFrame() function."
      ]
    },
    {
      "cell_type": "code",
      "metadata": {
        "id": "pSpz8T26CmYg"
      },
      "source": [
        "df = pd.DataFrame({\"distance\": dist, \"brightness 1\": brt1, \"brightness 2\": brt2, \"brightness 3\": brt3})\n",
        "\n",
        "# See those {curly brackets}? This means we're using a special data type called a dictionary!"
      ],
      "execution_count": null,
      "outputs": []
    },
    {
      "cell_type": "markdown",
      "metadata": {
        "id": "ztVzXq8UCmYg"
      },
      "source": [
        "Look at the first 5 lines of our dataframe using the .head() function"
      ]
    },
    {
      "cell_type": "code",
      "metadata": {
        "colab": {
          "base_uri": "https://localhost:8080/",
          "height": 204
        },
        "id": "1prRiDKOCmYh",
        "outputId": "88588c52-b284-427e-ee56-2e4f97b33b75"
      },
      "source": [
        "df.head(5)"
      ],
      "execution_count": null,
      "outputs": [
        {
          "output_type": "execute_result",
          "data": {
            "text/html": [
              "<div>\n",
              "<style scoped>\n",
              "    .dataframe tbody tr th:only-of-type {\n",
              "        vertical-align: middle;\n",
              "    }\n",
              "\n",
              "    .dataframe tbody tr th {\n",
              "        vertical-align: top;\n",
              "    }\n",
              "\n",
              "    .dataframe thead th {\n",
              "        text-align: right;\n",
              "    }\n",
              "</style>\n",
              "<table border=\"1\" class=\"dataframe\">\n",
              "  <thead>\n",
              "    <tr style=\"text-align: right;\">\n",
              "      <th></th>\n",
              "      <th>distance</th>\n",
              "      <th>brightness 1</th>\n",
              "      <th>brightness 2</th>\n",
              "      <th>brightness 3</th>\n",
              "    </tr>\n",
              "  </thead>\n",
              "  <tbody>\n",
              "    <tr>\n",
              "      <th>0</th>\n",
              "      <td>0</td>\n",
              "      <td>18357</td>\n",
              "      <td>18307</td>\n",
              "      <td>17100</td>\n",
              "    </tr>\n",
              "    <tr>\n",
              "      <th>1</th>\n",
              "      <td>10</td>\n",
              "      <td>3043</td>\n",
              "      <td>3670</td>\n",
              "      <td>3333</td>\n",
              "    </tr>\n",
              "    <tr>\n",
              "      <th>2</th>\n",
              "      <td>20</td>\n",
              "      <td>821</td>\n",
              "      <td>964</td>\n",
              "      <td>868</td>\n",
              "    </tr>\n",
              "    <tr>\n",
              "      <th>3</th>\n",
              "      <td>30</td>\n",
              "      <td>387</td>\n",
              "      <td>387</td>\n",
              "      <td>337</td>\n",
              "    </tr>\n",
              "    <tr>\n",
              "      <th>4</th>\n",
              "      <td>40</td>\n",
              "      <td>193</td>\n",
              "      <td>193</td>\n",
              "      <td>193</td>\n",
              "    </tr>\n",
              "  </tbody>\n",
              "</table>\n",
              "</div>"
            ],
            "text/plain": [
              "   distance  brightness 1  brightness 2  brightness 3\n",
              "0         0         18357         18307         17100\n",
              "1        10          3043          3670          3333\n",
              "2        20           821           964           868\n",
              "3        30           387           387           337\n",
              "4        40           193           193           193"
            ]
          },
          "metadata": {
            "tags": []
          },
          "execution_count": 6
        }
      ]
    },
    {
      "cell_type": "markdown",
      "metadata": {
        "id": "wo6y5YEKCmYh"
      },
      "source": [
        "Notice that the strings we chose in the .DataFrame() function have become the column headers and the items from the lists are the column values. \n",
        "\n",
        "What order are the columns in?"
      ]
    },
    {
      "cell_type": "markdown",
      "metadata": {
        "id": "6sqno3v4CmYh"
      },
      "source": [
        "## Working with data columns"
      ]
    },
    {
      "cell_type": "markdown",
      "metadata": {
        "id": "fyDtSV6bCmYi"
      },
      "source": [
        "Select just the \"brightness 1\" column and assign it to a variable."
      ]
    },
    {
      "cell_type": "code",
      "metadata": {
        "id": "NJtpECpTCmYi"
      },
      "source": [
        "bright_1 = df[\"brightness 1\"]"
      ],
      "execution_count": null,
      "outputs": []
    },
    {
      "cell_type": "markdown",
      "metadata": {
        "id": "R-c95-NWCmYi"
      },
      "source": [
        "Use the .head() function to look at the first 10 values in this column."
      ]
    },
    {
      "cell_type": "code",
      "metadata": {
        "colab": {
          "base_uri": "https://localhost:8080/",
          "height": 359
        },
        "id": "gr9eCFGFCmYi",
        "outputId": "3422aee3-8129-48c8-d5bd-115746b8881a"
      },
      "source": [
        "df.head(10)\n"
      ],
      "execution_count": null,
      "outputs": [
        {
          "output_type": "execute_result",
          "data": {
            "text/html": [
              "<div>\n",
              "<style scoped>\n",
              "    .dataframe tbody tr th:only-of-type {\n",
              "        vertical-align: middle;\n",
              "    }\n",
              "\n",
              "    .dataframe tbody tr th {\n",
              "        vertical-align: top;\n",
              "    }\n",
              "\n",
              "    .dataframe thead th {\n",
              "        text-align: right;\n",
              "    }\n",
              "</style>\n",
              "<table border=\"1\" class=\"dataframe\">\n",
              "  <thead>\n",
              "    <tr style=\"text-align: right;\">\n",
              "      <th></th>\n",
              "      <th>distance</th>\n",
              "      <th>brightness 1</th>\n",
              "      <th>brightness 2</th>\n",
              "      <th>brightness 3</th>\n",
              "    </tr>\n",
              "  </thead>\n",
              "  <tbody>\n",
              "    <tr>\n",
              "      <th>0</th>\n",
              "      <td>0</td>\n",
              "      <td>18357</td>\n",
              "      <td>18307</td>\n",
              "      <td>17100</td>\n",
              "    </tr>\n",
              "    <tr>\n",
              "      <th>1</th>\n",
              "      <td>10</td>\n",
              "      <td>3043</td>\n",
              "      <td>3670</td>\n",
              "      <td>3333</td>\n",
              "    </tr>\n",
              "    <tr>\n",
              "      <th>2</th>\n",
              "      <td>20</td>\n",
              "      <td>821</td>\n",
              "      <td>964</td>\n",
              "      <td>868</td>\n",
              "    </tr>\n",
              "    <tr>\n",
              "      <th>3</th>\n",
              "      <td>30</td>\n",
              "      <td>387</td>\n",
              "      <td>387</td>\n",
              "      <td>337</td>\n",
              "    </tr>\n",
              "    <tr>\n",
              "      <th>4</th>\n",
              "      <td>40</td>\n",
              "      <td>193</td>\n",
              "      <td>193</td>\n",
              "      <td>193</td>\n",
              "    </tr>\n",
              "    <tr>\n",
              "      <th>5</th>\n",
              "      <td>50</td>\n",
              "      <td>97</td>\n",
              "      <td>97</td>\n",
              "      <td>97</td>\n",
              "    </tr>\n",
              "    <tr>\n",
              "      <th>6</th>\n",
              "      <td>60</td>\n",
              "      <td>47</td>\n",
              "      <td>47</td>\n",
              "      <td>47</td>\n",
              "    </tr>\n",
              "    <tr>\n",
              "      <th>7</th>\n",
              "      <td>70</td>\n",
              "      <td>47</td>\n",
              "      <td>47</td>\n",
              "      <td>47</td>\n",
              "    </tr>\n",
              "    <tr>\n",
              "      <th>8</th>\n",
              "      <td>80</td>\n",
              "      <td>47</td>\n",
              "      <td>47</td>\n",
              "      <td>47</td>\n",
              "    </tr>\n",
              "    <tr>\n",
              "      <th>9</th>\n",
              "      <td>90</td>\n",
              "      <td>47</td>\n",
              "      <td>47</td>\n",
              "      <td>47</td>\n",
              "    </tr>\n",
              "  </tbody>\n",
              "</table>\n",
              "</div>"
            ],
            "text/plain": [
              "   distance  brightness 1  brightness 2  brightness 3\n",
              "0         0         18357         18307         17100\n",
              "1        10          3043          3670          3333\n",
              "2        20           821           964           868\n",
              "3        30           387           387           337\n",
              "4        40           193           193           193\n",
              "5        50            97            97            97\n",
              "6        60            47            47            47\n",
              "7        70            47            47            47\n",
              "8        80            47            47            47\n",
              "9        90            47            47            47"
            ]
          },
          "metadata": {
            "tags": []
          },
          "execution_count": 8
        }
      ]
    },
    {
      "cell_type": "markdown",
      "metadata": {
        "id": "_x6Yi3KSCmYj"
      },
      "source": [
        "Print out the min, max, and average value in this column:"
      ]
    },
    {
      "cell_type": "code",
      "metadata": {
        "colab": {
          "base_uri": "https://localhost:8080/"
        },
        "id": "1JK6tYVGCmYj",
        "outputId": "2d74ad33-14a2-4cdb-9855-87b7768881df"
      },
      "source": [
        "# You may have used numpy functions for these calculations in the past, but have you tried pandas methods?\n",
        "# Check your cheat sheet for details\n",
        "print(bright_1.min())\n",
        "print(bright_1.max())\n",
        "print(bright_1.mean())"
      ],
      "execution_count": null,
      "outputs": [
        {
          "output_type": "stream",
          "text": [
            "47\n",
            "18357\n",
            "2103.0\n"
          ],
          "name": "stdout"
        }
      ]
    },
    {
      "cell_type": "markdown",
      "metadata": {
        "id": "7DhsGJ8rCmYk"
      },
      "source": [
        "Use the .count() method to find out how many values are in the first brightness column:"
      ]
    },
    {
      "cell_type": "code",
      "metadata": {
        "colab": {
          "base_uri": "https://localhost:8080/"
        },
        "id": "LZHaG227CmYk",
        "outputId": "f6659a2f-4073-4e10-c5b0-4fc350ec6366"
      },
      "source": [
        "bright_1.count()"
      ],
      "execution_count": null,
      "outputs": [
        {
          "output_type": "execute_result",
          "data": {
            "text/plain": [
              "11"
            ]
          },
          "metadata": {
            "tags": []
          },
          "execution_count": 10
        }
      ]
    },
    {
      "cell_type": "markdown",
      "metadata": {
        "id": "wi0RhUoqCmYl"
      },
      "source": [
        "Now use the .sum() method to find the sum of all the values in this column:"
      ]
    },
    {
      "cell_type": "code",
      "metadata": {
        "id": "wc6ae8w7CmYl"
      },
      "source": [
        ""
      ],
      "execution_count": null,
      "outputs": []
    },
    {
      "cell_type": "markdown",
      "metadata": {
        "id": "R73UV8SbCmYl"
      },
      "source": [
        "## Adding new data to your dataframe"
      ]
    },
    {
      "cell_type": "markdown",
      "metadata": {
        "id": "0e2PqWTECmYl"
      },
      "source": [
        "You have three columns for brightness, but we're interested in calculating the average.\n",
        "\n",
        "Let's add a new column to our dataframe that contains the average brightness value:"
      ]
    },
    {
      "cell_type": "code",
      "metadata": {
        "id": "z7I-36qiCmYm"
      },
      "source": [
        "#Sample: df[\"new column\"] = df[[\"col1\", \"col2\"].mean(axis=1)\n",
        "\n",
        "# Notes:\n",
        "# \"new column\" is the name of the new column we are creating\n",
        "# We are specifying which columns to average together using an index\n",
        "# We're using the pandas .mean() method again!\n",
        "# axis=1 specifies that pandas should find the mean across columns. \n",
        "# (axis=0 would tell pandas to find the mean across rows)\n",
        "\n",
        "# write code to add an average brightness column below:\n",
        "df[\"avg brightness\"] = df[[\"brightness 1\", \"brightness 2\", \"brightness 3\"]].mean(axis=1)"
      ],
      "execution_count": null,
      "outputs": []
    },
    {
      "cell_type": "markdown",
      "metadata": {
        "id": "52MafSteCmYm"
      },
      "source": [
        "Use the .head() method to check that you've successfully added the new column:"
      ]
    },
    {
      "cell_type": "code",
      "metadata": {
        "colab": {
          "base_uri": "https://localhost:8080/",
          "height": 204
        },
        "id": "K7XdP8rSCmYn",
        "outputId": "f0097b43-66bd-4285-f5c2-d811a13522e5"
      },
      "source": [
        "df.head()"
      ],
      "execution_count": null,
      "outputs": [
        {
          "output_type": "execute_result",
          "data": {
            "text/html": [
              "<div>\n",
              "<style scoped>\n",
              "    .dataframe tbody tr th:only-of-type {\n",
              "        vertical-align: middle;\n",
              "    }\n",
              "\n",
              "    .dataframe tbody tr th {\n",
              "        vertical-align: top;\n",
              "    }\n",
              "\n",
              "    .dataframe thead th {\n",
              "        text-align: right;\n",
              "    }\n",
              "</style>\n",
              "<table border=\"1\" class=\"dataframe\">\n",
              "  <thead>\n",
              "    <tr style=\"text-align: right;\">\n",
              "      <th></th>\n",
              "      <th>distance</th>\n",
              "      <th>brightness 1</th>\n",
              "      <th>brightness 2</th>\n",
              "      <th>brightness 3</th>\n",
              "      <th>avg brightness</th>\n",
              "    </tr>\n",
              "  </thead>\n",
              "  <tbody>\n",
              "    <tr>\n",
              "      <th>0</th>\n",
              "      <td>0</td>\n",
              "      <td>18357</td>\n",
              "      <td>18307</td>\n",
              "      <td>17100</td>\n",
              "      <td>17921.333333</td>\n",
              "    </tr>\n",
              "    <tr>\n",
              "      <th>1</th>\n",
              "      <td>10</td>\n",
              "      <td>3043</td>\n",
              "      <td>3670</td>\n",
              "      <td>3333</td>\n",
              "      <td>3348.666667</td>\n",
              "    </tr>\n",
              "    <tr>\n",
              "      <th>2</th>\n",
              "      <td>20</td>\n",
              "      <td>821</td>\n",
              "      <td>964</td>\n",
              "      <td>868</td>\n",
              "      <td>884.333333</td>\n",
              "    </tr>\n",
              "    <tr>\n",
              "      <th>3</th>\n",
              "      <td>30</td>\n",
              "      <td>387</td>\n",
              "      <td>387</td>\n",
              "      <td>337</td>\n",
              "      <td>370.333333</td>\n",
              "    </tr>\n",
              "    <tr>\n",
              "      <th>4</th>\n",
              "      <td>40</td>\n",
              "      <td>193</td>\n",
              "      <td>193</td>\n",
              "      <td>193</td>\n",
              "      <td>193.000000</td>\n",
              "    </tr>\n",
              "  </tbody>\n",
              "</table>\n",
              "</div>"
            ],
            "text/plain": [
              "   distance  brightness 1  brightness 2  brightness 3  avg brightness\n",
              "0         0         18357         18307         17100    17921.333333\n",
              "1        10          3043          3670          3333     3348.666667\n",
              "2        20           821           964           868      884.333333\n",
              "3        30           387           387           337      370.333333\n",
              "4        40           193           193           193      193.000000"
            ]
          },
          "metadata": {
            "tags": []
          },
          "execution_count": 22
        }
      ]
    },
    {
      "cell_type": "markdown",
      "metadata": {
        "id": "wjgHnwxDCmYn"
      },
      "source": [
        "Assign the \"avg brightness\" column to a new variable:"
      ]
    },
    {
      "cell_type": "code",
      "metadata": {
        "id": "Y4gDju9ZCmYo"
      },
      "source": [
        "avgB = df[\"avg brightness\"] #syntax: variable_name = name_of_dataframe[\"name of the column\"]"
      ],
      "execution_count": null,
      "outputs": []
    },
    {
      "cell_type": "markdown",
      "metadata": {
        "id": "sNpuLVxkCmYo"
      },
      "source": [
        "What is the data type of the \"avg brightness\" column? (Hint: use the .dtypes method)"
      ]
    },
    {
      "cell_type": "code",
      "metadata": {
        "colab": {
          "base_uri": "https://localhost:8080/"
        },
        "id": "i1qD4fWOCmYp",
        "outputId": "fa886278-cd45-4b53-c719-effd4af1e0f8"
      },
      "source": [
        "# Note that the .dtypes method doesn't use parentheses\n",
        "df.dtypes"
      ],
      "execution_count": null,
      "outputs": [
        {
          "output_type": "execute_result",
          "data": {
            "text/plain": [
              "distance            int64\n",
              "brightness 1        int64\n",
              "brightness 2        int64\n",
              "brightness 3        int64\n",
              "avg brightness    float64\n",
              "dtype: object"
            ]
          },
          "metadata": {
            "tags": []
          },
          "execution_count": 24
        }
      ]
    },
    {
      "cell_type": "markdown",
      "metadata": {
        "id": "W4gbpzC4CmYp"
      },
      "source": [
        "Let's compare this to the rest of the columns. (Hint: try running the .dtypes attribute on the whole dataframe)"
      ]
    },
    {
      "cell_type": "code",
      "metadata": {
        "colab": {
          "base_uri": "https://localhost:8080/"
        },
        "id": "eOtZJzClCmYq",
        "outputId": "dd0d2d9c-ed67-467e-d140-1e784063190c"
      },
      "source": [
        "df.dtypes"
      ],
      "execution_count": null,
      "outputs": [
        {
          "output_type": "execute_result",
          "data": {
            "text/plain": [
              "distance            int64\n",
              "brightness 1        int64\n",
              "brightness 2        int64\n",
              "brightness 3        int64\n",
              "avg brightness    float64\n",
              "dtype: object"
            ]
          },
          "metadata": {
            "tags": []
          },
          "execution_count": 25
        }
      ]
    },
    {
      "cell_type": "markdown",
      "metadata": {
        "id": "hp2H0xPuCmYq"
      },
      "source": [
        "## Sorting your data"
      ]
    },
    {
      "cell_type": "markdown",
      "metadata": {
        "id": "DpdaURtPCmYs"
      },
      "source": [
        "Now let's do some more data analysis using pandas. We can use the .sort_values() function to sort our data by average brightness."
      ]
    },
    {
      "cell_type": "code",
      "metadata": {
        "colab": {
          "base_uri": "https://localhost:8080/",
          "height": 359
        },
        "id": "WN5A1oKZCmYt",
        "outputId": "6347d696-9512-4819-a78b-4536c8640bb2"
      },
      "source": [
        "df_sorted = df.sort_values([\"avg brightness\"]) # specify the column that you want to use for the sort using an index\n",
        "# Note that we need to assign the sorted dataframe to a new variable\n",
        "\n",
        "df_sorted.head(10) # Look at the first 10 lines of the sorted file"
      ],
      "execution_count": null,
      "outputs": [
        {
          "output_type": "execute_result",
          "data": {
            "text/html": [
              "<div>\n",
              "<style scoped>\n",
              "    .dataframe tbody tr th:only-of-type {\n",
              "        vertical-align: middle;\n",
              "    }\n",
              "\n",
              "    .dataframe tbody tr th {\n",
              "        vertical-align: top;\n",
              "    }\n",
              "\n",
              "    .dataframe thead th {\n",
              "        text-align: right;\n",
              "    }\n",
              "</style>\n",
              "<table border=\"1\" class=\"dataframe\">\n",
              "  <thead>\n",
              "    <tr style=\"text-align: right;\">\n",
              "      <th></th>\n",
              "      <th>distance</th>\n",
              "      <th>brightness 1</th>\n",
              "      <th>brightness 2</th>\n",
              "      <th>brightness 3</th>\n",
              "      <th>avg brightness</th>\n",
              "    </tr>\n",
              "  </thead>\n",
              "  <tbody>\n",
              "    <tr>\n",
              "      <th>6</th>\n",
              "      <td>60</td>\n",
              "      <td>47</td>\n",
              "      <td>47</td>\n",
              "      <td>47</td>\n",
              "      <td>47.000000</td>\n",
              "    </tr>\n",
              "    <tr>\n",
              "      <th>7</th>\n",
              "      <td>70</td>\n",
              "      <td>47</td>\n",
              "      <td>47</td>\n",
              "      <td>47</td>\n",
              "      <td>47.000000</td>\n",
              "    </tr>\n",
              "    <tr>\n",
              "      <th>8</th>\n",
              "      <td>80</td>\n",
              "      <td>47</td>\n",
              "      <td>47</td>\n",
              "      <td>47</td>\n",
              "      <td>47.000000</td>\n",
              "    </tr>\n",
              "    <tr>\n",
              "      <th>9</th>\n",
              "      <td>90</td>\n",
              "      <td>47</td>\n",
              "      <td>47</td>\n",
              "      <td>47</td>\n",
              "      <td>47.000000</td>\n",
              "    </tr>\n",
              "    <tr>\n",
              "      <th>10</th>\n",
              "      <td>100</td>\n",
              "      <td>47</td>\n",
              "      <td>47</td>\n",
              "      <td>47</td>\n",
              "      <td>47.000000</td>\n",
              "    </tr>\n",
              "    <tr>\n",
              "      <th>5</th>\n",
              "      <td>50</td>\n",
              "      <td>97</td>\n",
              "      <td>97</td>\n",
              "      <td>97</td>\n",
              "      <td>97.000000</td>\n",
              "    </tr>\n",
              "    <tr>\n",
              "      <th>4</th>\n",
              "      <td>40</td>\n",
              "      <td>193</td>\n",
              "      <td>193</td>\n",
              "      <td>193</td>\n",
              "      <td>193.000000</td>\n",
              "    </tr>\n",
              "    <tr>\n",
              "      <th>3</th>\n",
              "      <td>30</td>\n",
              "      <td>387</td>\n",
              "      <td>387</td>\n",
              "      <td>337</td>\n",
              "      <td>370.333333</td>\n",
              "    </tr>\n",
              "    <tr>\n",
              "      <th>2</th>\n",
              "      <td>20</td>\n",
              "      <td>821</td>\n",
              "      <td>964</td>\n",
              "      <td>868</td>\n",
              "      <td>884.333333</td>\n",
              "    </tr>\n",
              "    <tr>\n",
              "      <th>1</th>\n",
              "      <td>10</td>\n",
              "      <td>3043</td>\n",
              "      <td>3670</td>\n",
              "      <td>3333</td>\n",
              "      <td>3348.666667</td>\n",
              "    </tr>\n",
              "  </tbody>\n",
              "</table>\n",
              "</div>"
            ],
            "text/plain": [
              "    distance  brightness 1  brightness 2  brightness 3  avg brightness\n",
              "6         60            47            47            47       47.000000\n",
              "7         70            47            47            47       47.000000\n",
              "8         80            47            47            47       47.000000\n",
              "9         90            47            47            47       47.000000\n",
              "10       100            47            47            47       47.000000\n",
              "5         50            97            97            97       97.000000\n",
              "4         40           193           193           193      193.000000\n",
              "3         30           387           387           337      370.333333\n",
              "2         20           821           964           868      884.333333\n",
              "1         10          3043          3670          3333     3348.666667"
            ]
          },
          "metadata": {
            "tags": []
          },
          "execution_count": 26
        }
      ]
    },
    {
      "cell_type": "markdown",
      "metadata": {
        "id": "Pkck19JUCmYu"
      },
      "source": [
        "Look at the distances in this sorted dataframe. Do the lowest brightness values occur at large or small distances?\n",
        "\n",
        "What if we want to look at the highest brightness values? We can sort the data in reverse by adding another argument to the sort_values() function."
      ]
    },
    {
      "cell_type": "code",
      "metadata": {
        "colab": {
          "base_uri": "https://localhost:8080/",
          "height": 359
        },
        "id": "z8N-7MJXCmYu",
        "outputId": "bcd51aaf-d773-4cd6-894f-832c3f9ce50a"
      },
      "source": [
        "# set the ascending argument to False to sort values from highest to lowest\n",
        "df_sorted = df.sort_values([\"avg brightness\"], ascending = False)\n",
        "# We will overwrite our original variable, but you could use a different variable here if you wanted\n",
        "# to store multiple sorted dataframes\n",
        "\n",
        "df_sorted.head(10)"
      ],
      "execution_count": null,
      "outputs": [
        {
          "output_type": "execute_result",
          "data": {
            "text/html": [
              "<div>\n",
              "<style scoped>\n",
              "    .dataframe tbody tr th:only-of-type {\n",
              "        vertical-align: middle;\n",
              "    }\n",
              "\n",
              "    .dataframe tbody tr th {\n",
              "        vertical-align: top;\n",
              "    }\n",
              "\n",
              "    .dataframe thead th {\n",
              "        text-align: right;\n",
              "    }\n",
              "</style>\n",
              "<table border=\"1\" class=\"dataframe\">\n",
              "  <thead>\n",
              "    <tr style=\"text-align: right;\">\n",
              "      <th></th>\n",
              "      <th>distance</th>\n",
              "      <th>brightness 1</th>\n",
              "      <th>brightness 2</th>\n",
              "      <th>brightness 3</th>\n",
              "      <th>avg brightness</th>\n",
              "    </tr>\n",
              "  </thead>\n",
              "  <tbody>\n",
              "    <tr>\n",
              "      <th>0</th>\n",
              "      <td>0</td>\n",
              "      <td>18357</td>\n",
              "      <td>18307</td>\n",
              "      <td>17100</td>\n",
              "      <td>17921.333333</td>\n",
              "    </tr>\n",
              "    <tr>\n",
              "      <th>1</th>\n",
              "      <td>10</td>\n",
              "      <td>3043</td>\n",
              "      <td>3670</td>\n",
              "      <td>3333</td>\n",
              "      <td>3348.666667</td>\n",
              "    </tr>\n",
              "    <tr>\n",
              "      <th>2</th>\n",
              "      <td>20</td>\n",
              "      <td>821</td>\n",
              "      <td>964</td>\n",
              "      <td>868</td>\n",
              "      <td>884.333333</td>\n",
              "    </tr>\n",
              "    <tr>\n",
              "      <th>3</th>\n",
              "      <td>30</td>\n",
              "      <td>387</td>\n",
              "      <td>387</td>\n",
              "      <td>337</td>\n",
              "      <td>370.333333</td>\n",
              "    </tr>\n",
              "    <tr>\n",
              "      <th>4</th>\n",
              "      <td>40</td>\n",
              "      <td>193</td>\n",
              "      <td>193</td>\n",
              "      <td>193</td>\n",
              "      <td>193.000000</td>\n",
              "    </tr>\n",
              "    <tr>\n",
              "      <th>5</th>\n",
              "      <td>50</td>\n",
              "      <td>97</td>\n",
              "      <td>97</td>\n",
              "      <td>97</td>\n",
              "      <td>97.000000</td>\n",
              "    </tr>\n",
              "    <tr>\n",
              "      <th>6</th>\n",
              "      <td>60</td>\n",
              "      <td>47</td>\n",
              "      <td>47</td>\n",
              "      <td>47</td>\n",
              "      <td>47.000000</td>\n",
              "    </tr>\n",
              "    <tr>\n",
              "      <th>7</th>\n",
              "      <td>70</td>\n",
              "      <td>47</td>\n",
              "      <td>47</td>\n",
              "      <td>47</td>\n",
              "      <td>47.000000</td>\n",
              "    </tr>\n",
              "    <tr>\n",
              "      <th>8</th>\n",
              "      <td>80</td>\n",
              "      <td>47</td>\n",
              "      <td>47</td>\n",
              "      <td>47</td>\n",
              "      <td>47.000000</td>\n",
              "    </tr>\n",
              "    <tr>\n",
              "      <th>9</th>\n",
              "      <td>90</td>\n",
              "      <td>47</td>\n",
              "      <td>47</td>\n",
              "      <td>47</td>\n",
              "      <td>47.000000</td>\n",
              "    </tr>\n",
              "  </tbody>\n",
              "</table>\n",
              "</div>"
            ],
            "text/plain": [
              "   distance  brightness 1  brightness 2  brightness 3  avg brightness\n",
              "0         0         18357         18307         17100    17921.333333\n",
              "1        10          3043          3670          3333     3348.666667\n",
              "2        20           821           964           868      884.333333\n",
              "3        30           387           387           337      370.333333\n",
              "4        40           193           193           193      193.000000\n",
              "5        50            97            97            97       97.000000\n",
              "6        60            47            47            47       47.000000\n",
              "7        70            47            47            47       47.000000\n",
              "8        80            47            47            47       47.000000\n",
              "9        90            47            47            47       47.000000"
            ]
          },
          "metadata": {
            "tags": []
          },
          "execution_count": 27
        }
      ]
    },
    {
      "cell_type": "markdown",
      "metadata": {
        "id": "JjxAnWFzCmYv"
      },
      "source": [
        "Are the distances associated with the largest brightness values large or small?"
      ]
    },
    {
      "cell_type": "markdown",
      "metadata": {
        "id": "VeOSfzC0CmYv"
      },
      "source": [
        "Try it yourself! Sort the dataframe by distance (high to low) and look at the first 10 rows:"
      ]
    },
    {
      "cell_type": "code",
      "metadata": {
        "colab": {
          "base_uri": "https://localhost:8080/",
          "height": 359
        },
        "id": "gtxUG7KlCmYv",
        "outputId": "6877f1c4-a312-492a-f37c-62a19a4ed96b"
      },
      "source": [
        "df_sorted = df.sort_values([\"distance\"], ascending = False)\n",
        "\n",
        "df_sorted.head(10)"
      ],
      "execution_count": null,
      "outputs": [
        {
          "output_type": "execute_result",
          "data": {
            "text/html": [
              "<div>\n",
              "<style scoped>\n",
              "    .dataframe tbody tr th:only-of-type {\n",
              "        vertical-align: middle;\n",
              "    }\n",
              "\n",
              "    .dataframe tbody tr th {\n",
              "        vertical-align: top;\n",
              "    }\n",
              "\n",
              "    .dataframe thead th {\n",
              "        text-align: right;\n",
              "    }\n",
              "</style>\n",
              "<table border=\"1\" class=\"dataframe\">\n",
              "  <thead>\n",
              "    <tr style=\"text-align: right;\">\n",
              "      <th></th>\n",
              "      <th>distance</th>\n",
              "      <th>brightness 1</th>\n",
              "      <th>brightness 2</th>\n",
              "      <th>brightness 3</th>\n",
              "      <th>avg brightness</th>\n",
              "    </tr>\n",
              "  </thead>\n",
              "  <tbody>\n",
              "    <tr>\n",
              "      <th>10</th>\n",
              "      <td>100</td>\n",
              "      <td>47</td>\n",
              "      <td>47</td>\n",
              "      <td>47</td>\n",
              "      <td>47.000000</td>\n",
              "    </tr>\n",
              "    <tr>\n",
              "      <th>9</th>\n",
              "      <td>90</td>\n",
              "      <td>47</td>\n",
              "      <td>47</td>\n",
              "      <td>47</td>\n",
              "      <td>47.000000</td>\n",
              "    </tr>\n",
              "    <tr>\n",
              "      <th>8</th>\n",
              "      <td>80</td>\n",
              "      <td>47</td>\n",
              "      <td>47</td>\n",
              "      <td>47</td>\n",
              "      <td>47.000000</td>\n",
              "    </tr>\n",
              "    <tr>\n",
              "      <th>7</th>\n",
              "      <td>70</td>\n",
              "      <td>47</td>\n",
              "      <td>47</td>\n",
              "      <td>47</td>\n",
              "      <td>47.000000</td>\n",
              "    </tr>\n",
              "    <tr>\n",
              "      <th>6</th>\n",
              "      <td>60</td>\n",
              "      <td>47</td>\n",
              "      <td>47</td>\n",
              "      <td>47</td>\n",
              "      <td>47.000000</td>\n",
              "    </tr>\n",
              "    <tr>\n",
              "      <th>5</th>\n",
              "      <td>50</td>\n",
              "      <td>97</td>\n",
              "      <td>97</td>\n",
              "      <td>97</td>\n",
              "      <td>97.000000</td>\n",
              "    </tr>\n",
              "    <tr>\n",
              "      <th>4</th>\n",
              "      <td>40</td>\n",
              "      <td>193</td>\n",
              "      <td>193</td>\n",
              "      <td>193</td>\n",
              "      <td>193.000000</td>\n",
              "    </tr>\n",
              "    <tr>\n",
              "      <th>3</th>\n",
              "      <td>30</td>\n",
              "      <td>387</td>\n",
              "      <td>387</td>\n",
              "      <td>337</td>\n",
              "      <td>370.333333</td>\n",
              "    </tr>\n",
              "    <tr>\n",
              "      <th>2</th>\n",
              "      <td>20</td>\n",
              "      <td>821</td>\n",
              "      <td>964</td>\n",
              "      <td>868</td>\n",
              "      <td>884.333333</td>\n",
              "    </tr>\n",
              "    <tr>\n",
              "      <th>1</th>\n",
              "      <td>10</td>\n",
              "      <td>3043</td>\n",
              "      <td>3670</td>\n",
              "      <td>3333</td>\n",
              "      <td>3348.666667</td>\n",
              "    </tr>\n",
              "  </tbody>\n",
              "</table>\n",
              "</div>"
            ],
            "text/plain": [
              "    distance  brightness 1  brightness 2  brightness 3  avg brightness\n",
              "10       100            47            47            47       47.000000\n",
              "9         90            47            47            47       47.000000\n",
              "8         80            47            47            47       47.000000\n",
              "7         70            47            47            47       47.000000\n",
              "6         60            47            47            47       47.000000\n",
              "5         50            97            97            97       97.000000\n",
              "4         40           193           193           193      193.000000\n",
              "3         30           387           387           337      370.333333\n",
              "2         20           821           964           868      884.333333\n",
              "1         10          3043          3670          3333     3348.666667"
            ]
          },
          "metadata": {
            "tags": []
          },
          "execution_count": 29
        }
      ]
    },
    {
      "cell_type": "markdown",
      "metadata": {
        "id": "0HTkvDjHCmYw"
      },
      "source": [
        "## Exporting your processed data"
      ]
    },
    {
      "cell_type": "markdown",
      "metadata": {
        "id": "phhuareMCmYw"
      },
      "source": [
        "You can export your dataframe to your computer as a csv using the .to_csv() function."
      ]
    },
    {
      "cell_type": "code",
      "metadata": {
        "id": "uRgnpJfNCmYx"
      },
      "source": [
        "df.to_csv(\"./lab_averages.csv\", index=False) # index=False removes the index column (1, 2, 3...) from our dataset"
      ],
      "execution_count": null,
      "outputs": []
    },
    {
      "cell_type": "markdown",
      "metadata": {
        "id": "1rbaIuaQCmYx"
      },
      "source": [
        "## Graphing our results"
      ]
    },
    {
      "cell_type": "markdown",
      "metadata": {
        "id": "XmrVge-rCmYy"
      },
      "source": [
        "Use matplotlib to graph your results. Try plt.scatter() and plt.plot(). What are the strengths and weaknesses of each type of graph?"
      ]
    },
    {
      "cell_type": "code",
      "metadata": {
        "colab": {
          "base_uri": "https://localhost:8080/",
          "height": 541
        },
        "id": "1rjon_pgCmYy",
        "outputId": "13a0aac1-f04b-438a-871d-2b35061f7777"
      },
      "source": [
        "# Note: try experimenting with the marker argument for your graphs\n",
        "plt.scatter(df[\"distance\"], avgB)\n",
        "plt.xlabel(\"distance, mm\")\n",
        "plt.ylabel(\"brightness\")\n",
        "plt.show()\n",
        "\n",
        "\n",
        "plt.plot(df[\"distance\"], avgB, marker = \"x\")\n",
        "plt.xlabel(\"distance, mm\")\n",
        "plt.ylabel(\"brightness\")\n",
        "plt.show()\n",
        "\n",
        "\n"
      ],
      "execution_count": null,
      "outputs": [
        {
          "output_type": "display_data",
          "data": {
            "image/png": "[encoded data removed]",
            "text/plain": [
              "<Figure size 432x288 with 1 Axes>"
            ]
          },
          "metadata": {
            "tags": [],
            "needs_background": "light"
          }
        },
        {
          "output_type": "display_data",
          "data": {
            "image/png": "[encoded data removed]",
            "text/plain": [
              "<Figure size 432x288 with 1 Axes>"
            ]
          },
          "metadata": {
            "tags": [],
            "needs_background": "light"
          }
        }
      ]
    },
    {
      "cell_type": "markdown",
      "metadata": {
        "id": "ccl1OQVhCmYz"
      },
      "source": [
        "# 🟢Module 2: Clinometer activity Pt 1: Calculating the height of the planetarium\n",
        "\n",
        "Use this notebook to calculate the height of the Hayden Planetarium based on your measurements of distance and clinometer angle. "
      ]
    },
    {
      "cell_type": "markdown",
      "metadata": {
        "id": "Joqxa5yYCmYz"
      },
      "source": [
        "We will use the numpy library for this activity. It includes lots of functions that make mathematical calculations easier. Import the library below:"
      ]
    },
    {
      "cell_type": "code",
      "metadata": {
        "id": "ckcY45hKCmYz"
      },
      "source": [
        "# Remember that numpy has the alias np\n",
        "import numpy as np"
      ],
      "execution_count": null,
      "outputs": []
    },
    {
      "cell_type": "markdown",
      "metadata": {
        "id": "EXokNpd-CmYz"
      },
      "source": [
        "Next, assign the clinometer angle you measured to a variable:"
      ]
    },
    {
      "cell_type": "code",
      "metadata": {
        "id": "t3WiD5MTCmYz"
      },
      "source": [
        "# remember to think carefully about the datatype of your value\n",
        "degrees = 30\n",
        "\n"
      ],
      "execution_count": null,
      "outputs": []
    },
    {
      "cell_type": "markdown",
      "metadata": {
        "id": "SY9gTfcNCmY0"
      },
      "source": [
        "We can use the numpy function np.deg2rad() to convert our angle from degrees to radians, which we will need for our calculations later on. \n",
        "\n",
        "The np.deg2rad() function takes an angle in degrees as an argument and returns that angle in radians.\n",
        "\n",
        "Calculate your angle in radians and assign it to a new variable. Then print out the value:"
      ]
    },
    {
      "cell_type": "code",
      "metadata": {
        "id": "q-zwvWmRCmY0",
        "colab": {
          "base_uri": "https://localhost:8080/"
        },
        "outputId": "85201fc3-f444-41cd-d246-8094f716d257"
      },
      "source": [
        "# Remember to use the variable you created above.\n",
        "angle_radians = np.deg2rad(degrees) #converts degree measurements into another unit (radians)\n",
        "print(angle_radians)"
      ],
      "execution_count": null,
      "outputs": [
        {
          "output_type": "stream",
          "text": [
            "0.5235987755982988\n"
          ],
          "name": "stdout"
        }
      ]
    },
    {
      "cell_type": "markdown",
      "metadata": {
        "id": "sIUa0JmKCmY1"
      },
      "source": [
        "#### Now it's time to find the height of the planetarium!\n",
        "\n",
        "First, fill in the distance from the observer to the planetarium base (adjacent side):"
      ]
    },
    {
      "cell_type": "code",
      "metadata": {
        "id": "a4dFKAj2CmY1"
      },
      "source": [
        "# Assign the distance in meters to this variable\n",
        "adjacent = 52.35987756"
      ],
      "execution_count": null,
      "outputs": []
    },
    {
      "cell_type": "markdown",
      "metadata": {
        "id": "2mUU4uuPCmY1"
      },
      "source": [
        "Since we know theta and the length of the adjacent side of our triangle, we can use trigonometry to calculate the opposite side.\n",
        "\n",
        "Remember that tan(theta) = opposite/adjacent\n",
        "\n",
        "Use the numpy function np.tan() to calculate the length of \"opposite\" side of the triangle:"
      ]
    },
    {
      "cell_type": "code",
      "metadata": {
        "id": "6_g7qpo5CmY1",
        "colab": {
          "base_uri": "https://localhost:8080/",
          "height": 181
        },
        "outputId": "2b58a3dd-a101-441e-8ee0-bc13cdc62bed"
      },
      "source": [
        "np.tan(angle_radians) * adjacent\n",
        "print(opposite)"
      ],
      "execution_count": null,
      "outputs": [
        {
          "output_type": "error",
          "ename": "NameError",
          "evalue": "ignored",
          "traceback": [
            "\u001b[0;31m---------------------------------------------------------------------------\u001b[0m",
            "\u001b[0;31mNameError\u001b[0m                                 Traceback (most recent call last)",
            "\u001b[0;32m<ipython-input-38-8f2e0d209d9e>\u001b[0m in \u001b[0;36m<module>\u001b[0;34m()\u001b[0m\n\u001b[1;32m      1\u001b[0m \u001b[0mnp\u001b[0m\u001b[0;34m.\u001b[0m\u001b[0mtan\u001b[0m\u001b[0;34m(\u001b[0m\u001b[0mangle_radians\u001b[0m\u001b[0;34m)\u001b[0m \u001b[0;34m*\u001b[0m \u001b[0madjacent\u001b[0m\u001b[0;34m\u001b[0m\u001b[0;34m\u001b[0m\u001b[0m\n\u001b[0;32m----> 2\u001b[0;31m \u001b[0mprint\u001b[0m\u001b[0;34m(\u001b[0m\u001b[0mopposite\u001b[0m\u001b[0;34m)\u001b[0m\u001b[0;34m\u001b[0m\u001b[0;34m\u001b[0m\u001b[0m\n\u001b[0m",
            "\u001b[0;31mNameError\u001b[0m: name 'opposite' is not defined"
          ]
        }
      ]
    },
    {
      "cell_type": "markdown",
      "metadata": {
        "id": "ogfjVRFqCmY1"
      },
      "source": [
        "But there's something missing! You need to add your own height to the length of the opposite side to get the height of the planetarium. \n",
        "\n",
        "Add your height in meters to the opposite side and store this value in a new variable:"
      ]
    },
    {
      "cell_type": "code",
      "metadata": {
        "id": "PR4BPM2OCmY1",
        "colab": {
          "base_uri": "https://localhost:8080/",
          "height": 164
        },
        "outputId": "d95f8560-6c3f-4929-eafa-80f96d4a9d2f"
      },
      "source": [
        "building_height = 1.549399163 + opposite"
      ],
      "execution_count": null,
      "outputs": [
        {
          "output_type": "error",
          "ename": "NameError",
          "evalue": "ignored",
          "traceback": [
            "\u001b[0;31m---------------------------------------------------------------------------\u001b[0m",
            "\u001b[0;31mNameError\u001b[0m                                 Traceback (most recent call last)",
            "\u001b[0;32m<ipython-input-33-c4909ed8f700>\u001b[0m in \u001b[0;36m<module>\u001b[0;34m()\u001b[0m\n\u001b[0;32m----> 1\u001b[0;31m \u001b[0mbuilding_height\u001b[0m \u001b[0;34m=\u001b[0m \u001b[0;36m1.549399163\u001b[0m \u001b[0;34m+\u001b[0m \u001b[0mopposite\u001b[0m\u001b[0;34m\u001b[0m\u001b[0;34m\u001b[0m\u001b[0m\n\u001b[0m",
            "\u001b[0;31mNameError\u001b[0m: name 'opposite' is not defined"
          ]
        }
      ]
    },
    {
      "cell_type": "markdown",
      "metadata": {
        "id": "zHL5oO0jCmY1"
      },
      "source": [
        "Now print out a sentence that says \"The Hayden Planetarium is X meters tall!\" using the variable you just created:"
      ]
    },
    {
      "cell_type": "code",
      "metadata": {
        "id": "OK49MlcbCmY2",
        "colab": {
          "base_uri": "https://localhost:8080/",
          "height": 164
        },
        "outputId": "6779ce79-5810-4b60-aa9c-236a92534299"
      },
      "source": [
        "print(\"The Hayden Planetarium is\", round(building_height, 2), \"meters tall!\")"
      ],
      "execution_count": null,
      "outputs": [
        {
          "output_type": "error",
          "ename": "NameError",
          "evalue": "ignored",
          "traceback": [
            "\u001b[0;31m---------------------------------------------------------------------------\u001b[0m",
            "\u001b[0;31mNameError\u001b[0m                                 Traceback (most recent call last)",
            "\u001b[0;32m<ipython-input-39-0417898a96aa>\u001b[0m in \u001b[0;36m<module>\u001b[0;34m()\u001b[0m\n\u001b[0;32m----> 1\u001b[0;31m \u001b[0mprint\u001b[0m\u001b[0;34m(\u001b[0m\u001b[0;34m\"The Hayden Planetarium is\"\u001b[0m\u001b[0;34m,\u001b[0m \u001b[0mround\u001b[0m\u001b[0;34m(\u001b[0m\u001b[0mbuilding_height\u001b[0m\u001b[0;34m,\u001b[0m \u001b[0;36m2\u001b[0m\u001b[0;34m)\u001b[0m\u001b[0;34m,\u001b[0m \u001b[0;34m\"meters tall!\"\u001b[0m\u001b[0;34m)\u001b[0m\u001b[0;34m\u001b[0m\u001b[0;34m\u001b[0m\u001b[0m\n\u001b[0m",
            "\u001b[0;31mNameError\u001b[0m: name 'building_height' is not defined"
          ]
        }
      ]
    },
    {
      "cell_type": "markdown",
      "metadata": {
        "id": "KpE5KRHVCmY2"
      },
      "source": [
        "### Congratulations! \n",
        "\n",
        "Now what if you wanted to repeat these calculations for the entire class and find the average building height? How would you do that?\n",
        "\n",
        "If you were thinking pandas... you're right! Let's move on to part two of the activity."
      ]
    },
    {
      "cell_type": "markdown",
      "metadata": {
        "id": "NfpxvQAbCmY2"
      },
      "source": [
        "# 🟢Module 3: Clinometer activity Pt 2: Calculating the class average\n",
        "\n",
        "In this notebook you'll create a pandas dataframe with data from the entire class. You will practice using pandas functions and learn how to convert a CSV file to a pandas dataframe."
      ]
    },
    {
      "cell_type": "markdown",
      "metadata": {
        "id": "6lSQzRx5CmY2"
      },
      "source": [
        "Start by importing pandas and numpy"
      ]
    },
    {
      "cell_type": "code",
      "metadata": {
        "id": "lJDLW52LCmY2"
      },
      "source": [
        ""
      ],
      "execution_count": null,
      "outputs": []
    },
    {
      "cell_type": "markdown",
      "metadata": {
        "id": "97AywtDYCmY3"
      },
      "source": [
        "Next, let's open our data file and convert it to a pandas dataframe. \n",
        "`\n",
        "This time our dataset is in a CSV file so we can use the pd.read_csv() function:"
      ]
    },
    {
      "cell_type": "code",
      "metadata": {
        "id": "YOXiCE91CmY3"
      },
      "source": [
        ""
      ],
      "execution_count": null,
      "outputs": []
    },
    {
      "cell_type": "markdown",
      "metadata": {
        "id": "904EPqYBCmY3"
      },
      "source": [
        "Let's take a look at the data! Find the first 5 rows of data:"
      ]
    },
    {
      "cell_type": "code",
      "metadata": {
        "id": "mrsY3m3wCmY3"
      },
      "source": [
        ""
      ],
      "execution_count": null,
      "outputs": []
    },
    {
      "cell_type": "markdown",
      "metadata": {
        "id": "VMrtWo6UCmY3"
      },
      "source": [
        "Now check the data type of all the columns in the dataframe:"
      ]
    },
    {
      "cell_type": "code",
      "metadata": {
        "id": "7Q1EqpZdCmY4"
      },
      "source": [
        ""
      ],
      "execution_count": null,
      "outputs": []
    },
    {
      "cell_type": "markdown",
      "metadata": {
        "id": "yOQeoHaMCmY4"
      },
      "source": [
        "The first column contains the height of everyone in the class.\n",
        "\n",
        "Isolate this column using an index and assign it to a variable. Hint: You'll need to include the column name in the index."
      ]
    },
    {
      "cell_type": "code",
      "metadata": {
        "id": "blJX913FCmY4"
      },
      "source": [
        ""
      ],
      "execution_count": null,
      "outputs": []
    },
    {
      "cell_type": "markdown",
      "metadata": {
        "id": "0wBv6S__CmY4"
      },
      "source": [
        "Now, print out the average class height:"
      ]
    },
    {
      "cell_type": "code",
      "metadata": {
        "id": "658la8GFCmY4"
      },
      "source": [
        ""
      ],
      "execution_count": null,
      "outputs": []
    },
    {
      "cell_type": "markdown",
      "metadata": {
        "id": "cTgDRvl3CmY4"
      },
      "source": [
        "## Adding columns: calculating theta\n",
        "To make our data useful, we need to add some more columns. Let's create a column for theta first.\n",
        "\n",
        "Recall that theta = np.deg2rad(degrees)."
      ]
    },
    {
      "cell_type": "code",
      "metadata": {
        "id": "FRI60uosCmY5"
      },
      "source": [
        "# Create a new column called \"theta\" \n",
        "# Hint: You will need to use a dataframe index as the argument for the np.deg2rad() function.\n"
      ],
      "execution_count": null,
      "outputs": []
    },
    {
      "cell_type": "markdown",
      "metadata": {
        "id": "EkbrTyUGCmY5"
      },
      "source": [
        "Check to make sure that you've added your new column correctly:"
      ]
    },
    {
      "cell_type": "code",
      "metadata": {
        "id": "bJ993hYBCmY5"
      },
      "source": [
        ""
      ],
      "execution_count": null,
      "outputs": []
    },
    {
      "cell_type": "markdown",
      "metadata": {
        "id": "HykJW9QBCmY5"
      },
      "source": [
        "Next, let's add a \"building height\" column. \n",
        "\n",
        "Remember that opposite = adjacent * np.tan(theta) and that the building height is opposite + student height."
      ]
    },
    {
      "cell_type": "code",
      "metadata": {
        "id": "KbgtppgNCmY5"
      },
      "source": [
        "# Create a new column called \"building height\"\n",
        "# Hint: You will need to use THREE dataframe indexes to define this column"
      ],
      "execution_count": null,
      "outputs": []
    },
    {
      "cell_type": "markdown",
      "metadata": {
        "id": "Zy16oJvrCmY6"
      },
      "source": [
        "Check to make sure that you've added your new column correctly:"
      ]
    },
    {
      "cell_type": "code",
      "metadata": {
        "id": "oi9d2CF9CmY6"
      },
      "source": [
        ""
      ],
      "execution_count": null,
      "outputs": []
    },
    {
      "cell_type": "markdown",
      "metadata": {
        "id": "Yt6aLXrGCmY6"
      },
      "source": [
        "Now, find the average planetarium height for the entire class:"
      ]
    },
    {
      "cell_type": "code",
      "metadata": {
        "id": "nCCi5xNoCmY6"
      },
      "source": [
        ""
      ],
      "execution_count": null,
      "outputs": []
    },
    {
      "cell_type": "code",
      "metadata": {
        "id": "1tWbbytBCmY6"
      },
      "source": [
        ""
      ],
      "execution_count": null,
      "outputs": []
    },
    {
      "cell_type": "code",
      "metadata": {
        "id": "IPoTzcniCmY6"
      },
      "source": [
        ""
      ],
      "execution_count": null,
      "outputs": []
    },
    {
      "cell_type": "markdown",
      "metadata": {
        "id": "RobefhgDCmY6"
      },
      "source": [
        "# 🟢Module 4: Studying the stars with Gaia and pandas\n",
        "\n",
        "The Tycho-Gaia Astrometric Solution (TGAS) is a collection of 2.5 million stars identified by the Gaia astronomical observatory, a spacecraft launched in 2013. In this notebook, you will practice your pandas skills with a fraction of that dataset."
      ]
    },
    {
      "cell_type": "markdown",
      "metadata": {
        "id": "si8R-u-FCmY6"
      },
      "source": [
        "First, import pandas and matplotlib.pyplot:"
      ]
    },
    {
      "cell_type": "code",
      "metadata": {
        "id": "ZMZluhrGCmY7"
      },
      "source": [
        "import pandas as pd\n",
        "import matplotlib.pyplot as plt\n",
        "import numpy as np "
      ],
      "execution_count": null,
      "outputs": []
    },
    {
      "cell_type": "markdown",
      "metadata": {
        "id": "LUnsleCZCmY7"
      },
      "source": [
        "Now, open the \"TGAS_data.csv\" file:"
      ]
    },
    {
      "cell_type": "code",
      "metadata": {
        "id": "bEf-RKTbCmY7",
        "colab": {
          "base_uri": "https://localhost:8080/",
          "height": 375
        },
        "outputId": "57dbaa2a-e61c-4912-80c5-ccc8226197b6"
      },
      "source": [
        "dataframe = pd.read_csv(\"/content/drive/MyDrive/TGAS_data.csv\")"
      ],
      "execution_count": null,
      "outputs": [
        {
          "output_type": "error",
          "ename": "FileNotFoundError",
          "evalue": "ignored",
          "traceback": [
            "\u001b[0;31m---------------------------------------------------------------------------\u001b[0m",
            "\u001b[0;31mFileNotFoundError\u001b[0m                         Traceback (most recent call last)",
            "\u001b[0;32m<ipython-input-43-c27125da9757>\u001b[0m in \u001b[0;36m<module>\u001b[0;34m()\u001b[0m\n\u001b[0;32m----> 1\u001b[0;31m \u001b[0mdataframe\u001b[0m \u001b[0;34m=\u001b[0m \u001b[0mpd\u001b[0m\u001b[0;34m.\u001b[0m\u001b[0mread_csv\u001b[0m\u001b[0;34m(\u001b[0m\u001b[0;34m\"/content/drive/MyDrive/TGAS_data.csv\"\u001b[0m\u001b[0;34m)\u001b[0m\u001b[0;34m\u001b[0m\u001b[0;34m\u001b[0m\u001b[0m\n\u001b[0m",
            "\u001b[0;32m/usr/local/lib/python3.7/dist-packages/pandas/io/parsers.py\u001b[0m in \u001b[0;36mread_csv\u001b[0;34m(filepath_or_buffer, sep, delimiter, header, names, index_col, usecols, squeeze, prefix, mangle_dupe_cols, dtype, engine, converters, true_values, false_values, skipinitialspace, skiprows, skipfooter, nrows, na_values, keep_default_na, na_filter, verbose, skip_blank_lines, parse_dates, infer_datetime_format, keep_date_col, date_parser, dayfirst, cache_dates, iterator, chunksize, compression, thousands, decimal, lineterminator, quotechar, quoting, doublequote, escapechar, comment, encoding, dialect, error_bad_lines, warn_bad_lines, delim_whitespace, low_memory, memory_map, float_precision)\u001b[0m\n\u001b[1;32m    686\u001b[0m     )\n\u001b[1;32m    687\u001b[0m \u001b[0;34m\u001b[0m\u001b[0m\n\u001b[0;32m--> 688\u001b[0;31m     \u001b[0;32mreturn\u001b[0m \u001b[0m_read\u001b[0m\u001b[0;34m(\u001b[0m\u001b[0mfilepath_or_buffer\u001b[0m\u001b[0;34m,\u001b[0m \u001b[0mkwds\u001b[0m\u001b[0;34m)\u001b[0m\u001b[0;34m\u001b[0m\u001b[0;34m\u001b[0m\u001b[0m\n\u001b[0m\u001b[1;32m    689\u001b[0m \u001b[0;34m\u001b[0m\u001b[0m\n\u001b[1;32m    690\u001b[0m \u001b[0;34m\u001b[0m\u001b[0m\n",
            "\u001b[0;32m/usr/local/lib/python3.7/dist-packages/pandas/io/parsers.py\u001b[0m in \u001b[0;36m_read\u001b[0;34m(filepath_or_buffer, kwds)\u001b[0m\n\u001b[1;32m    452\u001b[0m \u001b[0;34m\u001b[0m\u001b[0m\n\u001b[1;32m    453\u001b[0m     \u001b[0;31m# Create the parser.\u001b[0m\u001b[0;34m\u001b[0m\u001b[0;34m\u001b[0m\u001b[0;34m\u001b[0m\u001b[0m\n\u001b[0;32m--> 454\u001b[0;31m     \u001b[0mparser\u001b[0m \u001b[0;34m=\u001b[0m \u001b[0mTextFileReader\u001b[0m\u001b[0;34m(\u001b[0m\u001b[0mfp_or_buf\u001b[0m\u001b[0;34m,\u001b[0m \u001b[0;34m**\u001b[0m\u001b[0mkwds\u001b[0m\u001b[0;34m)\u001b[0m\u001b[0;34m\u001b[0m\u001b[0;34m\u001b[0m\u001b[0m\n\u001b[0m\u001b[1;32m    455\u001b[0m \u001b[0;34m\u001b[0m\u001b[0m\n\u001b[1;32m    456\u001b[0m     \u001b[0;32mif\u001b[0m \u001b[0mchunksize\u001b[0m \u001b[0;32mor\u001b[0m \u001b[0miterator\u001b[0m\u001b[0;34m:\u001b[0m\u001b[0;34m\u001b[0m\u001b[0;34m\u001b[0m\u001b[0m\n",
            "\u001b[0;32m/usr/local/lib/python3.7/dist-packages/pandas/io/parsers.py\u001b[0m in \u001b[0;36m__init__\u001b[0;34m(self, f, engine, **kwds)\u001b[0m\n\u001b[1;32m    946\u001b[0m             \u001b[0mself\u001b[0m\u001b[0;34m.\u001b[0m\u001b[0moptions\u001b[0m\u001b[0;34m[\u001b[0m\u001b[0;34m\"has_index_names\"\u001b[0m\u001b[0;34m]\u001b[0m \u001b[0;34m=\u001b[0m \u001b[0mkwds\u001b[0m\u001b[0;34m[\u001b[0m\u001b[0;34m\"has_index_names\"\u001b[0m\u001b[0;34m]\u001b[0m\u001b[0;34m\u001b[0m\u001b[0;34m\u001b[0m\u001b[0m\n\u001b[1;32m    947\u001b[0m \u001b[0;34m\u001b[0m\u001b[0m\n\u001b[0;32m--> 948\u001b[0;31m         \u001b[0mself\u001b[0m\u001b[0;34m.\u001b[0m\u001b[0m_make_engine\u001b[0m\u001b[0;34m(\u001b[0m\u001b[0mself\u001b[0m\u001b[0;34m.\u001b[0m\u001b[0mengine\u001b[0m\u001b[0;34m)\u001b[0m\u001b[0;34m\u001b[0m\u001b[0;34m\u001b[0m\u001b[0m\n\u001b[0m\u001b[1;32m    949\u001b[0m \u001b[0;34m\u001b[0m\u001b[0m\n\u001b[1;32m    950\u001b[0m     \u001b[0;32mdef\u001b[0m \u001b[0mclose\u001b[0m\u001b[0;34m(\u001b[0m\u001b[0mself\u001b[0m\u001b[0;34m)\u001b[0m\u001b[0;34m:\u001b[0m\u001b[0;34m\u001b[0m\u001b[0;34m\u001b[0m\u001b[0m\n",
            "\u001b[0;32m/usr/local/lib/python3.7/dist-packages/pandas/io/parsers.py\u001b[0m in \u001b[0;36m_make_engine\u001b[0;34m(self, engine)\u001b[0m\n\u001b[1;32m   1178\u001b[0m     \u001b[0;32mdef\u001b[0m \u001b[0m_make_engine\u001b[0m\u001b[0;34m(\u001b[0m\u001b[0mself\u001b[0m\u001b[0;34m,\u001b[0m \u001b[0mengine\u001b[0m\u001b[0;34m=\u001b[0m\u001b[0;34m\"c\"\u001b[0m\u001b[0;34m)\u001b[0m\u001b[0;34m:\u001b[0m\u001b[0;34m\u001b[0m\u001b[0;34m\u001b[0m\u001b[0m\n\u001b[1;32m   1179\u001b[0m         \u001b[0;32mif\u001b[0m \u001b[0mengine\u001b[0m \u001b[0;34m==\u001b[0m \u001b[0;34m\"c\"\u001b[0m\u001b[0;34m:\u001b[0m\u001b[0;34m\u001b[0m\u001b[0;34m\u001b[0m\u001b[0m\n\u001b[0;32m-> 1180\u001b[0;31m             \u001b[0mself\u001b[0m\u001b[0;34m.\u001b[0m\u001b[0m_engine\u001b[0m \u001b[0;34m=\u001b[0m \u001b[0mCParserWrapper\u001b[0m\u001b[0;34m(\u001b[0m\u001b[0mself\u001b[0m\u001b[0;34m.\u001b[0m\u001b[0mf\u001b[0m\u001b[0;34m,\u001b[0m \u001b[0;34m**\u001b[0m\u001b[0mself\u001b[0m\u001b[0;34m.\u001b[0m\u001b[0moptions\u001b[0m\u001b[0;34m)\u001b[0m\u001b[0;34m\u001b[0m\u001b[0;34m\u001b[0m\u001b[0m\n\u001b[0m\u001b[1;32m   1181\u001b[0m         \u001b[0;32melse\u001b[0m\u001b[0;34m:\u001b[0m\u001b[0;34m\u001b[0m\u001b[0;34m\u001b[0m\u001b[0m\n\u001b[1;32m   1182\u001b[0m             \u001b[0;32mif\u001b[0m \u001b[0mengine\u001b[0m \u001b[0;34m==\u001b[0m \u001b[0;34m\"python\"\u001b[0m\u001b[0;34m:\u001b[0m\u001b[0;34m\u001b[0m\u001b[0;34m\u001b[0m\u001b[0m\n",
            "\u001b[0;32m/usr/local/lib/python3.7/dist-packages/pandas/io/parsers.py\u001b[0m in \u001b[0;36m__init__\u001b[0;34m(self, src, **kwds)\u001b[0m\n\u001b[1;32m   2008\u001b[0m         \u001b[0mkwds\u001b[0m\u001b[0;34m[\u001b[0m\u001b[0;34m\"usecols\"\u001b[0m\u001b[0;34m]\u001b[0m \u001b[0;34m=\u001b[0m \u001b[0mself\u001b[0m\u001b[0;34m.\u001b[0m\u001b[0musecols\u001b[0m\u001b[0;34m\u001b[0m\u001b[0;34m\u001b[0m\u001b[0m\n\u001b[1;32m   2009\u001b[0m \u001b[0;34m\u001b[0m\u001b[0m\n\u001b[0;32m-> 2010\u001b[0;31m         \u001b[0mself\u001b[0m\u001b[0;34m.\u001b[0m\u001b[0m_reader\u001b[0m \u001b[0;34m=\u001b[0m \u001b[0mparsers\u001b[0m\u001b[0;34m.\u001b[0m\u001b[0mTextReader\u001b[0m\u001b[0;34m(\u001b[0m\u001b[0msrc\u001b[0m\u001b[0;34m,\u001b[0m \u001b[0;34m**\u001b[0m\u001b[0mkwds\u001b[0m\u001b[0;34m)\u001b[0m\u001b[0;34m\u001b[0m\u001b[0;34m\u001b[0m\u001b[0m\n\u001b[0m\u001b[1;32m   2011\u001b[0m         \u001b[0mself\u001b[0m\u001b[0;34m.\u001b[0m\u001b[0munnamed_cols\u001b[0m \u001b[0;34m=\u001b[0m \u001b[0mself\u001b[0m\u001b[0;34m.\u001b[0m\u001b[0m_reader\u001b[0m\u001b[0;34m.\u001b[0m\u001b[0munnamed_cols\u001b[0m\u001b[0;34m\u001b[0m\u001b[0;34m\u001b[0m\u001b[0m\n\u001b[1;32m   2012\u001b[0m \u001b[0;34m\u001b[0m\u001b[0m\n",
            "\u001b[0;32mpandas/_libs/parsers.pyx\u001b[0m in \u001b[0;36mpandas._libs.parsers.TextReader.__cinit__\u001b[0;34m()\u001b[0m\n",
            "\u001b[0;32mpandas/_libs/parsers.pyx\u001b[0m in \u001b[0;36mpandas._libs.parsers.TextReader._setup_parser_source\u001b[0;34m()\u001b[0m\n",
            "\u001b[0;31mFileNotFoundError\u001b[0m: [Errno 2] No such file or directory: '/content/drive/MyDrive/TGAS_data.csv'"
          ]
        }
      ]
    },
    {
      "cell_type": "markdown",
      "metadata": {
        "id": "rS3J1ggUCmY7"
      },
      "source": [
        "Look at the first five rows of the dataframe:"
      ]
    },
    {
      "cell_type": "code",
      "metadata": {
        "id": "-ddRcwTgCmY7",
        "colab": {
          "base_uri": "https://localhost:8080/",
          "height": 164
        },
        "outputId": "3ef284e3-2ba6-4e99-a94a-38a8c53a20fc"
      },
      "source": [
        "dataframe.head(5)"
      ],
      "execution_count": null,
      "outputs": [
        {
          "output_type": "error",
          "ename": "NameError",
          "evalue": "ignored",
          "traceback": [
            "\u001b[0;31m---------------------------------------------------------------------------\u001b[0m",
            "\u001b[0;31mNameError\u001b[0m                                 Traceback (most recent call last)",
            "\u001b[0;32m<ipython-input-44-dfc19e3169c0>\u001b[0m in \u001b[0;36m<module>\u001b[0;34m()\u001b[0m\n\u001b[0;32m----> 1\u001b[0;31m \u001b[0mdataframe\u001b[0m\u001b[0;34m.\u001b[0m\u001b[0mhead\u001b[0m\u001b[0;34m(\u001b[0m\u001b[0;36m5\u001b[0m\u001b[0;34m)\u001b[0m\u001b[0;34m\u001b[0m\u001b[0;34m\u001b[0m\u001b[0m\n\u001b[0m",
            "\u001b[0;31mNameError\u001b[0m: name 'dataframe' is not defined"
          ]
        }
      ]
    },
    {
      "cell_type": "markdown",
      "metadata": {
        "id": "2AleMfULCmY7"
      },
      "source": [
        "How many rows are there in this dataframe?"
      ]
    },
    {
      "cell_type": "code",
      "metadata": {
        "id": "J2VjN4ANCmY7"
      },
      "source": [
        ""
      ],
      "execution_count": null,
      "outputs": []
    },
    {
      "cell_type": "markdown",
      "metadata": {
        "id": "qf7EDhK1CmY7"
      },
      "source": [
        "You might notice that one of the columns contains the parallax angle for each star (remember: nearby objects have a larger parallax angle than far away objects).\n",
        "\n",
        "Store the \"parallax\" column in a variable."
      ]
    },
    {
      "cell_type": "code",
      "metadata": {
        "id": "Pesm5H_7CmY8"
      },
      "source": [
        ""
      ],
      "execution_count": null,
      "outputs": []
    },
    {
      "cell_type": "markdown",
      "metadata": {
        "id": "HJPb-C8uCmY8"
      },
      "source": [
        "Find the min, max, and mean parallax angle for this dataset:"
      ]
    },
    {
      "cell_type": "code",
      "metadata": {
        "id": "cyJB4ePgCmY8"
      },
      "source": [
        ""
      ],
      "execution_count": null,
      "outputs": []
    },
    {
      "cell_type": "markdown",
      "metadata": {
        "id": "xg2dldndCmY8"
      },
      "source": [
        "Sort the entire dataframe by parallax angle from largest to smallest and print out the first 10 rows of the sorted dataframe."
      ]
    },
    {
      "cell_type": "code",
      "metadata": {
        "id": "EoIx7_teCmY9"
      },
      "source": [
        "# Remember to assign your sorted dataframe to a new variable\n"
      ],
      "execution_count": null,
      "outputs": []
    },
    {
      "cell_type": "markdown",
      "metadata": {
        "id": "SuACNuNlCmY9"
      },
      "source": [
        "## Selecting a particular value in a dataframe\n",
        "You can index a single item from a row of the dataframe by specifying the column and then the row index as follows:"
      ]
    },
    {
      "cell_type": "code",
      "metadata": {
        "id": "bRXjJHcgCmY9"
      },
      "source": [
        "# This code will select the Parallax from the star in row ID 600536\n",
        "df[\"Parallax (mas)\"][600536] "
      ],
      "execution_count": null,
      "outputs": []
    },
    {
      "cell_type": "markdown",
      "metadata": {
        "id": "QnCJrGMqCmY9"
      },
      "source": [
        "Try it yourself! Find the Parallax angle for the star in row index 1."
      ]
    },
    {
      "cell_type": "code",
      "metadata": {
        "id": "gJEWGFlwCmY9"
      },
      "source": [
        "# Use the following format: df[column name/variable][row index]\n"
      ],
      "execution_count": null,
      "outputs": []
    },
    {
      "cell_type": "markdown",
      "metadata": {
        "id": "Mqp6Nb8rCmY9"
      },
      "source": [
        "Now find the TYC2 ID for this star\""
      ]
    },
    {
      "cell_type": "code",
      "metadata": {
        "id": "MJv9rQf0CmY9"
      },
      "source": [
        ""
      ],
      "execution_count": null,
      "outputs": []
    },
    {
      "cell_type": "markdown",
      "metadata": {
        "id": "p-B6oCM1CmY-"
      },
      "source": [
        "## Let's calculate the distance to these stars based on their parallax angle\n",
        "The parallax angle in this database is measured in milliarcseconds (mas). Add a column called \"Distance (par)\" using the following formula to calculate distance in parsecs: \n",
        "\n",
        "distance (par) = 1 / (parallax/1000)"
      ]
    },
    {
      "cell_type": "code",
      "metadata": {
        "id": "IXb6ObWwCmY-"
      },
      "source": [
        ""
      ],
      "execution_count": null,
      "outputs": []
    },
    {
      "cell_type": "markdown",
      "metadata": {
        "id": "a1FQUlqxCmY-"
      },
      "source": [
        "Check your dataframe using the .head() method:"
      ]
    },
    {
      "cell_type": "code",
      "metadata": {
        "id": "Ix0ZMb_TCmY-"
      },
      "source": [
        ""
      ],
      "execution_count": null,
      "outputs": []
    },
    {
      "cell_type": "markdown",
      "metadata": {
        "id": "1X0BkIjZCmY-"
      },
      "source": [
        "Find the min, max, and average distance:"
      ]
    },
    {
      "cell_type": "code",
      "metadata": {
        "id": "0A6_KD3qCmY-"
      },
      "source": [
        ""
      ],
      "execution_count": null,
      "outputs": []
    },
    {
      "cell_type": "markdown",
      "metadata": {
        "id": "oEhyg-wzCmY-"
      },
      "source": [
        "Why are there negative distances? Can you find anything in the data that could explain this?"
      ]
    },
    {
      "cell_type": "markdown",
      "metadata": {
        "id": "r42M6KY5CmY-"
      },
      "source": [
        "## Looking at the distribution of distances\n",
        "The mean is helpful when it comes to learning about the average distance in parsecs to the stars we can measure with Gaia, but it doesn't give us the whole picture. Let's create a graph called a \"histogram\" that shows us how many stars have distances in each range.\n",
        "\n",
        "There's a simple matplotlib.pyplot function for this called plt.hist()\n",
        "\n",
        "The plt.hist() function takes three arguments: \n",
        "- The dataframe index (or variable) that you want to look at\n",
        "- *optional* The number of ranges\n",
        "- *optional* (x min, x max)"
      ]
    },
    {
      "cell_type": "code",
      "metadata": {
        "id": "QY9II2fuCmY-"
      },
      "source": [
        "# First let's try the simplest version. Just use the dataframe index or variable for the distance column:\n",
        "# Don't use the other two arguments for now:"
      ],
      "execution_count": null,
      "outputs": []
    },
    {
      "cell_type": "code",
      "metadata": {
        "id": "FMHdq0YnCmY_"
      },
      "source": [
        "# We can split the data up into more ranges if we specify a number. Try adding 20 as the second argument:\n"
      ],
      "execution_count": null,
      "outputs": []
    },
    {
      "cell_type": "code",
      "metadata": {
        "id": "CIKnvh6eCmY_"
      },
      "source": [
        "# There are so few stars in the very negative and very positive distances that it's skewing our results.\n",
        "# Let's try specifying a min and max range of (-100, 4000)\n"
      ],
      "execution_count": null,
      "outputs": []
    },
    {
      "cell_type": "markdown",
      "metadata": {
        "id": "FXKOh15gCmY_"
      },
      "source": [
        "# 🟢Module 5: Making an HR Diagram\n",
        "\n",
        "In this Notebook, we'll use pandas and matplotlib to create a Hertzsprung–Russell (HR) diagram with the information we collected about stars.\n",
        "\n"
      ]
    },
    {
      "cell_type": "markdown",
      "metadata": {
        "id": "OxJcz8OiCmY_"
      },
      "source": [
        "First, import pandas and matplotlib.pyplot"
      ]
    },
    {
      "cell_type": "code",
      "metadata": {
        "id": "nTQNFcqoCmY_"
      },
      "source": [
        ""
      ],
      "execution_count": null,
      "outputs": []
    },
    {
      "cell_type": "markdown",
      "metadata": {
        "id": "-_ZgJ7FLCmY_"
      },
      "source": [
        "Next, run the following cell to import another matplotlib library and modify the way Jupyter displays graphs:"
      ]
    },
    {
      "cell_type": "code",
      "metadata": {
        "id": "Ug8Z6dEyCmY_"
      },
      "source": [
        "import matplotlib.colors as mpl # We'll use the matplotlib.colors library to color our data points\n",
        "%matplotlib inline \n",
        "# This command changes the matplotlib viewer that Jupyter notebook uses and allows us to make fancier graphs"
      ],
      "execution_count": null,
      "outputs": []
    },
    {
      "cell_type": "markdown",
      "metadata": {
        "id": "54-lA-4PCmZA"
      },
      "source": [
        "Now, open the \"class_star_data.csv\" file:"
      ]
    },
    {
      "cell_type": "code",
      "metadata": {
        "id": "DiqRg7a2CmZA"
      },
      "source": [
        ""
      ],
      "execution_count": null,
      "outputs": []
    },
    {
      "cell_type": "markdown",
      "metadata": {
        "id": "ETppmpjVCmZA"
      },
      "source": [
        "Look at the first five rows of the dataframe:"
      ]
    },
    {
      "cell_type": "code",
      "metadata": {
        "id": "OerzfVnbCmZA"
      },
      "source": [
        ""
      ],
      "execution_count": null,
      "outputs": []
    },
    {
      "cell_type": "markdown",
      "metadata": {
        "id": "Cb7X4ZirCmZA"
      },
      "source": [
        "How many stars are in our dataset?"
      ]
    },
    {
      "cell_type": "code",
      "metadata": {
        "id": "kC4nEmxwCmZA"
      },
      "source": [
        ""
      ],
      "execution_count": null,
      "outputs": []
    },
    {
      "cell_type": "markdown",
      "metadata": {
        "id": "-mUNmuP6CmZA"
      },
      "source": [
        "### Let's explore the data a bit.\n",
        "\n",
        "\n",
        "Store the \"Brightness (suns)\" column and the \"Temperature (K)\" columns in variables."
      ]
    },
    {
      "cell_type": "code",
      "metadata": {
        "id": "qtrbHnr4CmZA"
      },
      "source": [
        ""
      ],
      "execution_count": null,
      "outputs": []
    },
    {
      "cell_type": "markdown",
      "metadata": {
        "id": "5W08g03WCmZA"
      },
      "source": [
        "Print out the mean brightness and temperature."
      ]
    },
    {
      "cell_type": "code",
      "metadata": {
        "id": "sqQocu_fCmZB"
      },
      "source": [
        ""
      ],
      "execution_count": null,
      "outputs": []
    },
    {
      "cell_type": "markdown",
      "metadata": {
        "id": "v40vk9y8CmZB"
      },
      "source": [
        "How do these values compare to the brightness and temperature of the sun?\n",
        "\n",
        "Print out the brightness and temperature of the sun. \n",
        "\n",
        "Hint: Use an index! The sun's star ID is 25, making its dataframe index 24. "
      ]
    },
    {
      "cell_type": "code",
      "metadata": {
        "id": "0yYgoRjJCmZB"
      },
      "source": [
        ""
      ],
      "execution_count": null,
      "outputs": []
    },
    {
      "cell_type": "markdown",
      "metadata": {
        "id": "xlRxJC19CmZB"
      },
      "source": [
        "### Now let's make an HR diagram!\n",
        "\n",
        "Run the code below and look at it together. As a group, write comments that explain what each line does. If you have any questions, jot them down and we'll discuss them as a class."
      ]
    },
    {
      "cell_type": "code",
      "metadata": {
        "id": "zU3icD0jCmZB"
      },
      "source": [
        "cm = plt.cm.get_cmap(\"RdYlBu\")\n",
        "plt.scatter(T, B, c=B, s=35, cmap=cm, norm=mpl.LogNorm())\n",
        "plt.scatter(T[24], B[24], c='magenta', s=200, marker='*') \n",
        "plt.yscale('log')\n",
        "plt.ylim([0.000001, 1000000])\n",
        "plt.xlabel('Temperature (K)')\n",
        "plt.ylabel('Brightness (Suns)')\n",
        "plt.title('HR Diagram')\n",
        "plt.gca().invert_xaxis()\n",
        "plt.show()"
      ],
      "execution_count": null,
      "outputs": []
    },
    {
      "cell_type": "markdown",
      "metadata": {
        "id": "Ih594IWeCmZB"
      },
      "source": [
        "## 🟢Module 6: The Cultural-Societal Impact of the Lack of Access to Home Broadband\n",
        "\n",
        "Electromagnetic waves that have wavelengths that are larger than 1mm in length are typically called radio waves. These wavelengths are used for communication between mobile phones, radio stations, Bluetooth devices, and of course radio stations.\n",
        "\n",
        "Radio astronomers developed an understanding of radio waves, which provided huge advantage for the development of the high-speed WI-FI standard. In the early 1990’s, WI-FI speed was limited by errors created from the signal bouncing and echoing off walls and objects of a room. This problem was made worse when a lot of information was sent across a single pure tone (single frequency) sine-like radio waves, limiting the possible data WI-FI data rate. However, it was found that by spreading the load of information across the radio band, the echo was reduced. It was not until the mid 2000s that this standard had become main-stream in WI-FI technology.\n",
        "\n",
        "\n",
        "In modern times, Wi-Fi is crucial to everyday activities whether it be work, school, or retail. But, who has access to Wi-Fi and who doesn't? Create a dataframe using the following access-based-on-income vs. time data, and create a scatter plot that visualizes how they compare.\n",
        "\n",
        "Source: https://www.pewresearch.org/internet/fact-sheet/internet-broadband/?menuItem=2ab2b0be-6364-4d3a-8db7-ae134dbc05cd\n",
        "\n"
      ]
    },
    {
      "cell_type": "code",
      "metadata": {
        "id": "L073Dn_gCmZB"
      },
      "source": [
        "#Import necessary libraries\n"
      ],
      "execution_count": null,
      "outputs": []
    },
    {
      "cell_type": "code",
      "metadata": {
        "id": "fSvuj4IbCmZB"
      },
      "source": [
        "#Read in data.\n"
      ],
      "execution_count": null,
      "outputs": []
    },
    {
      "cell_type": "code",
      "metadata": {
        "id": "qftXk9SuCmZB"
      },
      "source": [
        "#Store column data in variables.\n"
      ],
      "execution_count": null,
      "outputs": []
    },
    {
      "cell_type": "code",
      "metadata": {
        "id": "uI0NvdSQCmZC"
      },
      "source": [
        "#Plot information\n"
      ],
      "execution_count": null,
      "outputs": []
    },
    {
      "cell_type": "markdown",
      "metadata": {
        "id": "GbBWzHMdCmZC"
      },
      "source": [
        "Answer the following questions:\n",
        "\n",
        "1. What income group of households has the greatest access to internet? The smallest?\n",
        "\n",
        "2. True or False: Equality exists because everyone has the opportunity to pay for internet access in their household. <br> Explain your thoughts.\n",
        "\n",
        "3. What are some ways that we can use our computer science skills to boost access of lower-income households to a stable high-speed internet connection?"
      ]
    },
    {
      "cell_type": "code",
      "metadata": {
        "id": "p5AuvJw8CmZC"
      },
      "source": [
        ""
      ],
      "execution_count": null,
      "outputs": []
    }
  ]
}